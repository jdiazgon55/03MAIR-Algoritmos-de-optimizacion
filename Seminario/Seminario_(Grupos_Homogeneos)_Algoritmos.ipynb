{
  "nbformat": 4,
  "nbformat_minor": 0,
  "metadata": {
    "colab": {
      "name": "Seminario (Grupos Homogeneos) - Algoritmos.ipynb",
      "version": "0.3.2",
      "provenance": [],
      "collapsed_sections": [],
      "include_colab_link": true
    },
    "kernelspec": {
      "name": "python3",
      "display_name": "Python 3"
    }
  },
  "cells": [
    {
      "cell_type": "markdown",
      "metadata": {
        "id": "view-in-github",
        "colab_type": "text"
      },
      "source": [
        "<a href=\"https://colab.research.google.com/github/paella55/03MAIR-Algoritmos-de-optimizacion/blob/master/Seminario/Seminario_(Grupos_Homogeneos)_Algoritmos.ipynb\" target=\"_parent\"><img src=\"https://colab.research.google.com/assets/colab-badge.svg\" alt=\"Open In Colab\"/></a>"
      ]
    },
    {
      "metadata": {
        "id": "hVbXYX-RfPWh",
        "colab_type": "text"
      },
      "cell_type": "markdown",
      "source": [
        "# Algoritmos de optimización - Seminario<br>\n",
        "Nombre y Apellidos:  Jaime Díaz González <br>\n",
        "Url: https://github.com/.../03MAIR---Algoritmos-de-Optimizacion---2019/tree/master/SEMINARIO<br>\n",
        "Problema:\n",
        "> 1. Elección de grupos de población homogéneos \n",
        "\n",
        "Descripción del problema: \n",
        "Se solicita diseñar un algoritmo para conseguir una agrupación de terneros en grupos de tratamientos que cumplan de la\n",
        "mejor manera posible las especificaciones de la productora.\n",
        "\n",
        "(*) La respuesta es obligatoria\n",
        "\n",
        "\n",
        "\n",
        "\n",
        "\n",
        "                                        "
      ]
    },
    {
      "metadata": {
        "id": "AiskKkzZfy4e",
        "colab_type": "code",
        "colab": {}
      },
      "cell_type": "code",
      "source": [
        ""
      ],
      "execution_count": 0,
      "outputs": []
    },
    {
      "metadata": {
        "id": "3_-exlrTgLd-",
        "colab_type": "text"
      },
      "cell_type": "markdown",
      "source": [
        "(*)¿Cuantas posibilidades hay sin tener en cuenta las restricciones?<br>\n",
        "\n",
        "\n",
        "\n",
        "¿Cuantas posibilidades hay teniendo en cuenta todas las restricciones.\n",
        "\n",
        "\n"
      ]
    },
    {
      "metadata": {
        "id": "WfCUqJyKhPcw",
        "colab_type": "text"
      },
      "cell_type": "markdown",
      "source": [
        "Respuesta:<br>\n",
        "Para calcular el numero posible de soluciones es necesario algunas algo de combinatoria y saber contar.<br>\n",
        "Suponemos que el número de ciudades es N y que partimos de una ciudad dada.\n",
        "Podemos suponer un procedimiento que vaya construyendo todas las soluciones. Para el primer viaje disponemos de N-1 ciudades ya que debemos eliminar la ciudad de partida como posible candidata. Para la segunda ciudad a visitar disponemos de N-2 posiblidades. Por tanto ya tenemos (N-1)x(N-2) para visitar 2 ciudades. <br>\n",
        "Si seguimos el razonamiento deducimos que hay (N-1)! (factoria de N-1) posibilidades.<br>\n",
        "Puesto que el camino es circular(comienza y termina en la misma ciudad) debemos tener en cuenta que cada ruta tiene una ruta inversa semejante. La primera se convierte en la última, la segunda en la penultima y así sucesivamente. Por tanto sin no queremos tener en cuenta esta repeticion en total tenemos (N-1)!/2"
      ]
    },
    {
      "metadata": {
        "id": "iq6Fe32MgpDX",
        "colab_type": "code",
        "colab": {}
      },
      "cell_type": "code",
      "source": [
        ""
      ],
      "execution_count": 0,
      "outputs": []
    },
    {
      "metadata": {
        "id": "dzynfVJahHoY",
        "colab_type": "text"
      },
      "cell_type": "markdown",
      "source": [
        "Modelo para el espacio de soluciones<br>\n",
        "(*) ¿Cual es la estructura de datos que mejor se adapta al problema? Argumentalo.(Es posible que hayas elegido una al principio y veas la necesidad de cambiar, arguentalo)\n"
      ]
    },
    {
      "metadata": {
        "id": "xFIJrOwKi2Ti",
        "colab_type": "text"
      },
      "cell_type": "markdown",
      "source": [
        "Respuesta:\n",
        "\n",
        "Podemos etiquetar las ciudades con un indice único desde 1 a N para cada ciudad.\n",
        "\n",
        "Es posible guardar las posibles soluciones en un vector de dimensión N. La primera coordenada será siempre la ciudad de partida.\n",
        "La segunda coordenada será la segunda ciidad a visitar y así sucesivamente.\n",
        "\n",
        "Si guardamos las ciudades en un diccionario de python podemos recuperar sus nombre a través de sus indices.\n",
        "\n",
        "Debemos guardar las distancias o costes para ir desde cada par de ciudades. Aunque no nos lo han especificado en el problema, podemos suponer que el coste o distancia de ir de la ciudad i a j es el mismo que el de ir de j a i. Por tanto necesitamos una matriz simétrica para guardar estos valores.  De esta manera diremos que DISTANCIA[i][i] es la distancia de ir de i a j. En la diagonal evitamos disponemos 0(ceros)"
      ]
    },
    {
      "metadata": {
        "id": "38c-7-ejhJmA",
        "colab_type": "code",
        "outputId": "0cb778dd-e497-4525-9634-7aa2de0c7d64",
        "colab": {
          "base_uri": "https://localhost:8080/",
          "height": 34
        }
      },
      "cell_type": "code",
      "source": [
        "import random\n",
        "CIUDADES= {\n",
        "    0: \"Madrid\",\n",
        "    1: \"Barcelona\",\n",
        "    2: \"Sevilla\",\n",
        "    3: \"Valencia\",\n",
        "    4: \"Zaragoza\"\n",
        "}\n",
        "\n",
        "posible_ruta=(0,1,2,3,4 )\n",
        "\n",
        "print(CIUDADES[posible_ruta[0]]) \n",
        "\n",
        "COSTES = [[0, 364, 261, 312, 389],\n",
        "          [364, 0, 221, 275, 482],\n",
        "          [261, 221, 0, 220, 469],\n",
        "          [312, 275, 220, 0, 370],\n",
        "          [389, 482, 469, 370, 0]]\n",
        " \n",
        "  "
      ],
      "execution_count": 0,
      "outputs": [
        {
          "output_type": "stream",
          "text": [
            "Madrid\n"
          ],
          "name": "stdout"
        }
      ]
    },
    {
      "metadata": {
        "id": "7Z9U2W7bi-XS",
        "colab_type": "text"
      },
      "cell_type": "markdown",
      "source": [
        "Según el modelo para el espacio de soluciones<br>\n",
        "(*)¿Cual es la función objetivo?\n",
        "\n",
        "(*)¿Es un problema de maximización o minimización?"
      ]
    },
    {
      "metadata": {
        "id": "hBalWLM7j1_d",
        "colab_type": "text"
      },
      "cell_type": "markdown",
      "source": [
        "Respuesta:<br>\n",
        "Dada una solución, por ejemplo posible_ruta=(1,2,3,4,5)<br>\n",
        "Podemos diseñar una función que recorra la ruta y devuelva la suma de las distancias para la matriz de costes dada. Debemos tener en cuenta tambien el coste de ir desde la ultima ciudad a la primera para cerrar el circulo.<br>\n",
        "\n",
        "Este es un problema de minimización\n"
      ]
    },
    {
      "metadata": {
        "id": "pDA-rg3Gj5Lz",
        "colab_type": "code",
        "outputId": "72b9168b-17be-4e67-88e7-0f932ea7ef71",
        "colab": {
          "base_uri": "https://localhost:8080/",
          "height": 51
        }
      },
      "cell_type": "code",
      "source": [
        "def calcular_distancia(ruta, COSTES):\n",
        "  acumulado = 0                                #Valor acumulado de la ruta parcial\n",
        "  for i in range(len(ruta)-1):                 #Para recorrer todas las ciudades del venctor\n",
        "    acumulado += COSTES[ruta[i]][ruta[i+1]]    #Acumula\n",
        "  return acumulado + COSTES[ruta[-1]][ruta[0]]  #Debemos tener en cuenta tambien el coste de ir desde la ultima ciudad a la primera para cerrar el circulo\n",
        "    \n",
        "print(posible_ruta)\n",
        "calcular_distancia(posible_ruta, COSTES)"
      ],
      "execution_count": 0,
      "outputs": [
        {
          "output_type": "stream",
          "text": [
            "(0, 1, 2, 3, 4)\n"
          ],
          "name": "stdout"
        },
        {
          "output_type": "execute_result",
          "data": {
            "text/plain": [
              "1564"
            ]
          },
          "metadata": {
            "tags": []
          },
          "execution_count": 33
        }
      ]
    },
    {
      "metadata": {
        "id": "rlnTYgY1j6I2",
        "colab_type": "text"
      },
      "cell_type": "markdown",
      "source": [
        "Diseña un algoritmo para resolver el problema por fuerza bruta"
      ]
    },
    {
      "metadata": {
        "id": "70rDgxYXkC8r",
        "colab_type": "text"
      },
      "cell_type": "markdown",
      "source": [
        ""
      ]
    },
    {
      "metadata": {
        "id": "CJb5sQ0qkENy",
        "colab_type": "code",
        "colab": {}
      },
      "cell_type": "code",
      "source": [
        ""
      ],
      "execution_count": 0,
      "outputs": []
    },
    {
      "metadata": {
        "id": "tgrnsC2nkFa8",
        "colab_type": "text"
      },
      "cell_type": "markdown",
      "source": [
        "Calcula la complejidad del algoritmo por fuerza bruta"
      ]
    },
    {
      "metadata": {
        "id": "9eUd3xwckP68",
        "colab_type": "text"
      },
      "cell_type": "markdown",
      "source": [
        "Respuesta"
      ]
    },
    {
      "metadata": {
        "id": "rvZWwL-ckRST",
        "colab_type": "code",
        "colab": {}
      },
      "cell_type": "code",
      "source": [
        ""
      ],
      "execution_count": 0,
      "outputs": []
    },
    {
      "metadata": {
        "id": "txbrmLmskReM",
        "colab_type": "text"
      },
      "cell_type": "markdown",
      "source": [
        "(*)Diseña un algoritmo que mejore la complejidad del algortimo por fuerza bruta. Argumenta porque crees que mejora el algoritmo por fuerza bruta"
      ]
    },
    {
      "metadata": {
        "id": "hLrVwt5QkZPD",
        "colab_type": "text"
      },
      "cell_type": "markdown",
      "source": [
        "Respuesta"
      ]
    },
    {
      "metadata": {
        "id": "m1eyM21Vkabg",
        "colab_type": "code",
        "colab": {}
      },
      "cell_type": "code",
      "source": [
        ""
      ],
      "execution_count": 0,
      "outputs": []
    },
    {
      "metadata": {
        "id": "eGDB4K6uk1iN",
        "colab_type": "text"
      },
      "cell_type": "markdown",
      "source": [
        "(*)Calcula la complejidad del algoritmo "
      ]
    },
    {
      "metadata": {
        "id": "NhpTh_BPk1ms",
        "colab_type": "text"
      },
      "cell_type": "markdown",
      "source": [
        "Respuesta"
      ]
    },
    {
      "metadata": {
        "id": "nREzhkStlCq8",
        "colab_type": "code",
        "colab": {}
      },
      "cell_type": "code",
      "source": [
        ""
      ],
      "execution_count": 0,
      "outputs": []
    },
    {
      "metadata": {
        "id": "3M6QjTsSkmYe",
        "colab_type": "text"
      },
      "cell_type": "markdown",
      "source": [
        "Según el problema (y tenga sentido), diseña un juego de datos de entrada aleatorios"
      ]
    },
    {
      "metadata": {
        "id": "Jc3_OlyNkvjZ",
        "colab_type": "text"
      },
      "cell_type": "markdown",
      "source": [
        "Respuesta"
      ]
    },
    {
      "metadata": {
        "id": "sJ-N2etjkyWc",
        "colab_type": "code",
        "colab": {}
      },
      "cell_type": "code",
      "source": [
        "for i in range(5):\n",
        "  COSTES[i][i] = 0\n",
        "  for j in range(i+1, 5):\n",
        "    COSTES[i][j] = random.randrange(200,500)\n",
        "    COSTES[j][i] = COSTES[i][j]"
      ],
      "execution_count": 0,
      "outputs": []
    },
    {
      "metadata": {
        "id": "zy5ZROmjlGo1",
        "colab_type": "text"
      },
      "cell_type": "markdown",
      "source": [
        "Aplica el algoritmo al juego de datos generado"
      ]
    },
    {
      "metadata": {
        "id": "_Cmj-PVylMsa",
        "colab_type": "text"
      },
      "cell_type": "markdown",
      "source": [
        "Respuesta"
      ]
    },
    {
      "metadata": {
        "id": "Jkx8GeiYlUz1",
        "colab_type": "code",
        "colab": {}
      },
      "cell_type": "code",
      "source": [
        ""
      ],
      "execution_count": 0,
      "outputs": []
    },
    {
      "metadata": {
        "colab_type": "text",
        "id": "eTFWUJQrtGcv"
      },
      "cell_type": "markdown",
      "source": [
        "Enumera las referencias que has utilizado(si ha sido necesario) para llevar a cabo el trabajo"
      ]
    },
    {
      "metadata": {
        "id": "YKQ_mRBttWsP",
        "colab_type": "text"
      },
      "cell_type": "markdown",
      "source": [
        "Respuesta"
      ]
    },
    {
      "metadata": {
        "id": "kAkDPUyRtYyH",
        "colab_type": "text"
      },
      "cell_type": "markdown",
      "source": [
        "Describe brevemente las lineas de como crees que es posible avanzar en el estudio del problema. Ten en cuenta incluso posibles variaciones del problema y/o variaciones al alza del tamaño"
      ]
    },
    {
      "metadata": {
        "id": "IE0uZmo-tZu-",
        "colab_type": "text"
      },
      "cell_type": "markdown",
      "source": [
        "Respuesta"
      ]
    }
  ]
}