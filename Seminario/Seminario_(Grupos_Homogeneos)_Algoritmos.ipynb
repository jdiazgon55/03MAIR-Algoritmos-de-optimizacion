{
  "nbformat": 4,
  "nbformat_minor": 0,
  "metadata": {
    "colab": {
      "name": "Seminario (Grupos Homogeneos) - Algoritmos.ipynb",
      "version": "0.3.2",
      "provenance": [],
      "collapsed_sections": [],
      "include_colab_link": true
    },
    "kernelspec": {
      "name": "python3",
      "display_name": "Python 3"
    }
  },
  "cells": [
    {
      "cell_type": "markdown",
      "metadata": {
        "id": "view-in-github",
        "colab_type": "text"
      },
      "source": [
        "<a href=\"https://colab.research.google.com/github/paella55/03MAIR-Algoritmos-de-optimizacion/blob/master/Seminario/Seminario_(Grupos_Homogeneos)_Algoritmos.ipynb\" target=\"_parent\"><img src=\"https://colab.research.google.com/assets/colab-badge.svg\" alt=\"Open In Colab\"/></a>"
      ]
    },
    {
      "metadata": {
        "id": "hVbXYX-RfPWh",
        "colab_type": "text"
      },
      "cell_type": "markdown",
      "source": [
        "# Algoritmos de optimización - Seminario<br>\n",
        "Nombre y Apellidos:  Jaime Díaz González <br>\n",
        "Url: https://github.com/paella55/03MAIR-Algoritmos-de-optimizacion/blob/master/Seminario/Seminario_(Grupos_Homogeneos)_Algoritmos.ipynb<br>\n",
        "Problema:\n",
        "> 1. Elección de grupos de población homogéneos \n",
        "\n",
        "Descripción del problema: \n",
        "Se solicita diseñar un algoritmo para conseguir una agrupación de terneros en grupos de tratamientos que cumplan de la\n",
        "mejor manera posible las especificaciones de la productora.\n",
        "\n",
        "(*) La respuesta es obligatoria\n",
        "\n",
        "\n",
        "\n",
        "\n",
        "\n",
        "                                        "
      ]
    },
    {
      "metadata": {
        "id": "3_-exlrTgLd-",
        "colab_type": "text"
      },
      "cell_type": "markdown",
      "source": [
        " (*)¿Cuantas posibilidades hay sin tener en cuenta las restricciones? ****<br>\n",
        "\n",
        "\n",
        "\n",
        "**¿Cuantas posibilidades hay teniendo en cuenta todas las restricciones.**\n",
        "\n",
        "\n"
      ]
    },
    {
      "metadata": {
        "id": "WfCUqJyKhPcw",
        "colab_type": "text"
      },
      "cell_type": "markdown",
      "source": [
        "Respuesta:<br>\n",
        "Sin restricciones, tenemos un total de N! soluciones.\n",
        "\n",
        "Con restricciones:\n",
        "\n",
        "Teniendo en cuenta que tenemos un total de N terneros que tenemos que dividir en 3 tratamientos diferentes por 3 grupos cada uno:\n",
        "\n",
        "Dividimos los terneros en 3 tratamientos distintos -> N/3\n",
        "\n",
        "Como los tratamientos son independientes entre sí, vamos a empezar a contar con un solo tratamiento.\n",
        "\n",
        "N/3 terneros / 3 grupos  = N/9. Sabiendo que las permutaciones de terneros dentro del mismo grupo no cambian nada, tenemos un total de (N/9)! posibilidades por cada tratamiento.\n",
        "\n",
        "Ahora sumamos los tratamientos -> 3*(N/9)! en total"
      ]
    },
    {
      "metadata": {
        "id": "dzynfVJahHoY",
        "colab_type": "text"
      },
      "cell_type": "markdown",
      "source": [
        "**Modelo para el espacio de soluciones<br>**\n",
        "(*) ¿Cual es la estructura de datos que mejor se adapta al problema? Argumentalo.(Es posible que hayas elegido una al principio y veas la necesidad de cambiar, arguentalo)\n"
      ]
    },
    {
      "metadata": {
        "id": "xFIJrOwKi2Ti",
        "colab_type": "text"
      },
      "cell_type": "markdown",
      "source": [
        "Respuesta:\n",
        "\n",
        "Desde el principio he decido utilizar dos librerias muy interesantes para el manejo de estructuras de datos.\n",
        "\n",
        "He utilizado Panda DataFrames para simular los datos que me da el cliente de sus terneros. Es una tabla de dos columnas (Peso y Sexo) que en cada instancia guardan un valor. Panda tiene una gran cantidad de funciones interesantes para filtrar datos, además de que visualmente queda bastante organizado. Por todas estas razones lo he utilizado.\n",
        "\n",
        "Para el espacio de soluciones, he decidido utilizar Numpy, que es una libreria muy utilizada en el ámbito matemático para el manejo de vectores y matrices.\n",
        "\n",
        "Para cada tratamiento tendremos una matriz de 3 filas. Cada fila serán los grupos. Dentro de cada grupo tendremos los individuos. La forma de acceder al grupo 2, al individuo 3 sería: grupos[1][2] porque los índices empiezan por 0.\n",
        "\n",
        "Numpy, entre otras cosas, me ayuda a calcular la media y la desviación típica de un vector."
      ]
    },
    {
      "metadata": {
        "id": "Xn_ZQqRNzlRy",
        "colab_type": "text"
      },
      "cell_type": "markdown",
      "source": [
        "### Creación de la estructura de datos"
      ]
    },
    {
      "metadata": {
        "id": "38c-7-ejhJmA",
        "colab_type": "code",
        "outputId": "74e7182c-c762-4792-cb13-1f0b003f99c4",
        "colab": {
          "base_uri": "https://localhost:8080/",
          "height": 204
        }
      },
      "cell_type": "code",
      "source": [
        "# librería externa para guardar los datos en tablas\n",
        "import pandas as pd\n",
        "from pandas import Series, DataFrame\n",
        "\n",
        "import random\n",
        "# liberia externa para manejo de vectores\n",
        "import numpy as np\n",
        "\n",
        "# Número de terneros\n",
        "N = 80\n",
        "# Número de tratamientos\n",
        "tratamientos = 3\n",
        "# Número de grupos\n",
        "grupos = tratamientos*3\n",
        "\n",
        "# Generamos datos\n",
        "# Siguiendo la desviación estandar y la media del peso\n",
        "pesos_terneros = np.random.uniform(low=35.0, high=39.1, size=(N,))\n",
        "# Ahora hacemos machos y hembras\n",
        "machos_hembras = []\n",
        "for i in range(N):\n",
        "  machos_hembras.append(random.choice('MH'))\n",
        "\n",
        "def crear_tabla():\n",
        "  # Me creo las columnas y le añado los valores\n",
        "  terneros_dict = {\"Peso\": pesos_terneros, \"Sexo\": machos_hembras}\n",
        "  # Creo la tabla que almacena los valores\n",
        "  terneros_tabla = DataFrame(terneros_dict)\n",
        "  return terneros_tabla\n",
        "\n",
        "terneros_tabla = crear_tabla()\n",
        "# Muestro 5 de entre todos\n",
        "terneros_tabla.sample(5)"
      ],
      "execution_count": 25,
      "outputs": [
        {
          "output_type": "execute_result",
          "data": {
            "text/html": [
              "<div>\n",
              "<style scoped>\n",
              "    .dataframe tbody tr th:only-of-type {\n",
              "        vertical-align: middle;\n",
              "    }\n",
              "\n",
              "    .dataframe tbody tr th {\n",
              "        vertical-align: top;\n",
              "    }\n",
              "\n",
              "    .dataframe thead th {\n",
              "        text-align: right;\n",
              "    }\n",
              "</style>\n",
              "<table border=\"1\" class=\"dataframe\">\n",
              "  <thead>\n",
              "    <tr style=\"text-align: right;\">\n",
              "      <th></th>\n",
              "      <th>Peso</th>\n",
              "      <th>Sexo</th>\n",
              "    </tr>\n",
              "  </thead>\n",
              "  <tbody>\n",
              "    <tr>\n",
              "      <th>15</th>\n",
              "      <td>37.107878</td>\n",
              "      <td>H</td>\n",
              "    </tr>\n",
              "    <tr>\n",
              "      <th>50</th>\n",
              "      <td>38.563168</td>\n",
              "      <td>M</td>\n",
              "    </tr>\n",
              "    <tr>\n",
              "      <th>4</th>\n",
              "      <td>38.357231</td>\n",
              "      <td>M</td>\n",
              "    </tr>\n",
              "    <tr>\n",
              "      <th>76</th>\n",
              "      <td>37.449004</td>\n",
              "      <td>H</td>\n",
              "    </tr>\n",
              "    <tr>\n",
              "      <th>74</th>\n",
              "      <td>38.140209</td>\n",
              "      <td>M</td>\n",
              "    </tr>\n",
              "  </tbody>\n",
              "</table>\n",
              "</div>"
            ],
            "text/plain": [
              "         Peso Sexo\n",
              "15  37.107878    H\n",
              "50  38.563168    M\n",
              "4   38.357231    M\n",
              "76  37.449004    H\n",
              "74  38.140209    M"
            ]
          },
          "metadata": {
            "tags": []
          },
          "execution_count": 25
        }
      ]
    },
    {
      "metadata": {
        "id": "fmGGhWvOzpoh",
        "colab_type": "text"
      },
      "cell_type": "markdown",
      "source": [
        "### Filtrado de datos"
      ]
    },
    {
      "metadata": {
        "id": "f2-nvlQezzhK",
        "colab_type": "code",
        "colab": {}
      },
      "cell_type": "code",
      "source": [
        "# Ahora vamos a organizar los datos por sexo\n",
        "terneros_machos = terneros_tabla[terneros_tabla['Sexo'] == 'M']\n",
        "terneros_hembras = terneros_tabla[terneros_tabla['Sexo'] == 'H']\n",
        "\n",
        "# Reiniciamos sus indices\n",
        "terneros_machos = terneros_machos.reset_index(drop=True)\n",
        "terneros_hembras = terneros_hembras.reset_index(drop=True)\n",
        "\n",
        "# Ahora voy a ver cuantos terneros tengo que descartar, porque los grupos\n",
        "# tienen que ser iguales en número.\n",
        "machos_sobrantes = len(terneros_machos.index) % grupos\n",
        "hembras_sobrantes = len(terneros_hembras.index) % grupos\n",
        "\n",
        "# Descartamos los mayores y los menores pesos (outliers)\n",
        "def descartar_terneros(df: DataFrame, num_descartar):\n",
        "  \n",
        "  for i in range(num_descartar):\n",
        "    # En la iteración par, mayores\n",
        "    if i % 2 == 0:\n",
        "      indice = df['Peso'].idxmax()\n",
        "      df = df.drop(df.index[indice])\n",
        "      df = df.reset_index(drop=True)\n",
        "    # En la iteración impar, menores\n",
        "    else:\n",
        "      indice = df['Peso'].idxmin()\n",
        "      df = df.drop(df.index[indice])\n",
        "      df = df.reset_index(drop=True)\n",
        "  return df\n",
        "\n",
        "# Descartamos terneros macho y reiniciamos los indices\n",
        "terneros_machos = descartar_terneros(terneros_machos, machos_sobrantes)\n",
        "terneros_machos = terneros_machos.reset_index(drop=True)\n",
        "# Descartamos terneros hembra y reiniciamos los indices\n",
        "terneros_hembras = descartar_terneros(terneros_hembras, hembras_sobrantes)\n",
        "terneros_hembras = terneros_hembras.reset_index(drop=True)"
      ],
      "execution_count": 0,
      "outputs": []
    },
    {
      "metadata": {
        "id": "p_adYqGEBS0h",
        "colab_type": "text"
      },
      "cell_type": "markdown",
      "source": [
        "### Crear matriz de tratamientos"
      ]
    },
    {
      "metadata": {
        "id": "y4p9YKZ6BXLJ",
        "colab_type": "code",
        "outputId": "41900379-162c-44eb-a066-e8fd6ab87be9",
        "colab": {
          "base_uri": "https://localhost:8080/",
          "height": 51
        }
      },
      "cell_type": "code",
      "source": [
        "# Intentamos encontrar los mínimos, para tener grupos iniciales mejores\n",
        "def encontrar_minimos(df: DataFrame, num_minimos):\n",
        "  # Creamos un nuevo DataFrame vacio\n",
        "  df_minimos = pd.DataFrame()\n",
        "  for i in range(num_minimos):\n",
        "    # Buscamos el mínimo y se lo añadimos\n",
        "    indice = df['Peso'].idxmin()\n",
        "    df_minimos = df_minimos.append(df.iloc[indice])\n",
        "    # Lo borramos para que no vuelva a aparecer y refrescamos los indices\n",
        "    df = df.drop(df.index[indice])\n",
        "    df = df.reset_index(drop=True)\n",
        "  \n",
        "  df_minimos = df_minimos.reset_index(drop=True)\n",
        "  return df_minimos, df\n",
        "\n",
        "def crear_matriz_tratamientos(tratamientos, grupos, tamanyo_grupos, df: DataFrame):\n",
        "\n",
        "  # Creo una matriz tridimensional vacia para tener todos los tratamientos, \n",
        "  # todos los grupos y todos los individuos\n",
        "  matriz_grupos = np.zeros(shape=(tratamientos, grupos, tamanyo_grupos))\n",
        "\n",
        "  for t in range(tratamientos):\n",
        "    for g in range(3):\n",
        "      # Busco los mínimos y los añado al tratamiento y grupo\n",
        "      (terneros_min, df) = encontrar_minimos(df, tamanyo_grupos)\n",
        "\n",
        "      individuos = matriz_grupos[t][g]\n",
        "      # Necesito los indices para poner los valores de los individuos\n",
        "      indices = [i for i in range(individuos.size)]\n",
        "      np.put(individuos, indices, terneros_min['Peso'])\n",
        "      # Finalmente pongo los individuos en la matriz\n",
        "      matriz_grupos[t][g] = individuos\n",
        "  \n",
        "  return matriz_grupos\n",
        "\n",
        "tamanyo_grupos = len(terneros_machos.index)//grupos\n",
        "\n",
        "matriz_grupos_machos = crear_matriz_tratamientos(tratamientos, 3,\n",
        "                                                 tamanyo_grupos, terneros_machos)\n",
        "\n",
        "matriz_grupos_hembras = crear_matriz_tratamientos(tratamientos, 3,\n",
        "                                                 tamanyo_grupos, terneros_hembras)\n",
        "\n",
        "print(\"Tratamiento 1 grupo 3: \" + str(matriz_grupos_machos[0][2]))\n",
        "print(\"Tratamiento 2 grupo 1: \" + str(matriz_grupos_hembras[1][0]))"
      ],
      "execution_count": 27,
      "outputs": [
        {
          "output_type": "stream",
          "text": [
            "Tratamiento 1 grupo 3: [35.85622558 36.19122035 36.29494022 36.31179497]\n",
            "Tratamiento 2 grupo 1: [36.7406232  36.75611312 36.81042701 36.82207007]\n"
          ],
          "name": "stdout"
        }
      ]
    },
    {
      "metadata": {
        "id": "FXF5sbX7_gOE",
        "colab_type": "text"
      },
      "cell_type": "markdown",
      "source": [
        "**Según el modelo para el espacio de soluciones<br>**\n",
        "(*)¿Cual es la función objetivo?\n",
        "\n",
        "(*)¿Es un problema de maximización o minimización?"
      ]
    },
    {
      "metadata": {
        "id": "dk81ZR0E_oxT",
        "colab_type": "text"
      },
      "cell_type": "markdown",
      "source": [
        "Respuesta: \n",
        "\n",
        "He decidido que el error de una solución se calcula mediante la siguiente formula:\n",
        "\n",
        "\n",
        "\n",
        "1.   Sumo las desviaciones de cada grupo...\n",
        "\n",
        "\n",
        "\n",
        "> desviacion_total = sumatorio(desviacion_grupo_i)\n",
        "\n",
        "\n",
        "\n",
        "2.   Calculo la media de cada grupo, y resto sus diferencias. Si las medias son más cercanas, el valor de la diferencia será menor. Todo en valor absoluto para tener valores positivos\n",
        "\n",
        "> diferencia_medias = |sumatorio(media_i - media_j)|\n",
        "\n",
        "La función objetivo a minimizar será:\n",
        "\n",
        "\n",
        "\n",
        "> F = desviacion_total + diferencia_medias\n",
        "\n",
        "Es por tanto un problema de **minimización**.\n",
        "\n",
        "\n"
      ]
    },
    {
      "metadata": {
        "id": "lKBQ0RzL1d2e",
        "colab_type": "text"
      },
      "cell_type": "markdown",
      "source": [
        "### Función objetivo"
      ]
    },
    {
      "metadata": {
        "id": "swo4LtWV1nvE",
        "colab_type": "code",
        "colab": {}
      },
      "cell_type": "code",
      "source": [
        "# Vamos ahora a crear un método para calcular la función objetivo\n",
        "def funcion_objetivo(grupos):\n",
        "  desviacion_total = 0\n",
        "  medias = []\n",
        "  # Recorremos todos los grupos\n",
        "  for i in range(len(grupos)):\n",
        "    desviacion_total = desviacion_total + np.std(grupos[i])\n",
        "    medias.append(np.average(grupos[i])) \n",
        "  \n",
        "  # Calculamos la diferencia entre medias:\n",
        "  diferencia_medias = 0\n",
        "  for i in range(len(medias)-1):\n",
        "    diferencia_medias = diferencia_medias + abs(medias[i]-medias[i+1])\n",
        "  return desviacion_total, diferencia_medias\n",
        "\n",
        "def es_mejor_solucion(grupos, error_actual):\n",
        "  (desv, med) = funcion_objetivo(grupos)\n",
        "  error_siguiente = desv + med\n",
        "  if (error_siguiente < error_actual):\n",
        "    return True, error_siguiente\n",
        "  else:\n",
        "    return False, error_actual"
      ],
      "execution_count": 0,
      "outputs": []
    },
    {
      "metadata": {
        "id": "pGol0V32qArg",
        "colab_type": "text"
      },
      "cell_type": "markdown",
      "source": [
        "### Crear entorno soluciones"
      ]
    },
    {
      "metadata": {
        "id": "E6JY3gWLqDJw",
        "colab_type": "code",
        "colab": {}
      },
      "cell_type": "code",
      "source": [
        "# Me sirve para crear una nueva variable por valor\n",
        "import copy\n",
        "\n",
        "def crear_entorno_soluciones(grupos_iniciales):\n",
        "  # Me sirve para crear una nueva variable por valor\n",
        "  mejor_solucion = copy.deepcopy(grupos_iniciales)\n",
        "  \n",
        "  # Calculo el error inicial\n",
        "  (desv, med) = funcion_objetivo(mejor_solucion)\n",
        "  error_actual = desv + med\n",
        "\n",
        "  # Por cada grupo excepto el último porque ya habrá sido utilizado\n",
        "  for i in range(len(grupos_iniciales)-1):\n",
        "    # Por cada ternero del grupo\n",
        "    for j in range(len(grupos_iniciales[i])):\n",
        "      # Por cada ternero del siguiente grupo\n",
        "      for k in range(len(grupos_iniciales[i+1])):\n",
        "        # Vuelvo a la solución inicial\n",
        "        grupos = copy.deepcopy(grupos_iniciales)\n",
        "        # Intercambio terneros distintos cada vez\n",
        "        tmp = grupos[i+1][k]\n",
        "        grupos[i+1][k] = grupos[i][j]\n",
        "        grupos[i][j] = tmp\n",
        "        \n",
        "        # Compruebo si la solución actual es mejor\n",
        "        (es_mejor, error_siguiente) = es_mejor_solucion(grupos, error_actual)\n",
        "        if (es_mejor):\n",
        "          error_actual = error_siguiente\n",
        "          mejor_solucion = copy.deepcopy(grupos)\n",
        "  \n",
        "  return mejor_solucion, error_actual"
      ],
      "execution_count": 0,
      "outputs": []
    },
    {
      "metadata": {
        "id": "_iWCpG-1qMme",
        "colab_type": "text"
      },
      "cell_type": "markdown",
      "source": [
        "### Resolución por fuerza bruta\n",
        "\n",
        "Diseña un algoritmo para resolver el problema por fuerza bruta"
      ]
    },
    {
      "metadata": {
        "id": "QGAMSox3qPSO",
        "colab_type": "code",
        "outputId": "8ecda5f4-3912-435e-92d0-447419808f94",
        "colab": {
          "base_uri": "https://localhost:8080/",
          "height": 697
        }
      },
      "cell_type": "code",
      "source": [
        "def fuerza_bruta(tratamiento_inicial):\n",
        "  # Me sirve para crear una nueva variable por valor\n",
        "  mejor_solucion = copy.deepcopy(tratamiento_inicial)\n",
        "  \n",
        "  # Calculo el error inicial\n",
        "  (desv, med) = funcion_objetivo(mejor_solucion)\n",
        "  error_actual = desv + med\n",
        "  \n",
        "  while(True):\n",
        "    actual, error_siguiente = crear_entorno_soluciones(mejor_solucion)\n",
        "    # Esto signfica que no hemos mejorado nada, debemos parar\n",
        "    if (error_actual == error_siguiente):\n",
        "      break\n",
        "    else:\n",
        "      error_actual = error_siguiente\n",
        "      mejor_solucion = copy.deepcopy(actual)\n",
        "      \n",
        "  return mejor_solucion, error_actual\n",
        "\n",
        "def imprimir_mejores(matriz):\n",
        "  # Por cada tratamiento\n",
        "  for i in range(len(matriz)):\n",
        "    print(\"Solución tratamiento: \" + str(i))\n",
        "    (solucion, error) = fuerza_bruta(matriz[i])\n",
        "    print(solucion)\n",
        "    print(\"Error (desviación + media): \" + str(error) + \"\\n\")\n",
        "\n",
        "print(\"SOLUCIONES HEMBRAS...\\n\")\n",
        "imprimir_mejores(matriz_grupos_hembras)\n",
        "print(\"SOLUCIONES MACHOS...\\n\")\n",
        "imprimir_mejores(matriz_grupos_machos)"
      ],
      "execution_count": 30,
      "outputs": [
        {
          "output_type": "stream",
          "text": [
            "SOLUCIONES HEMBRAS...\n",
            "\n",
            "Solución tratamiento: 0\n",
            "[[35.32026433 35.40729227 35.56284345 35.58362782]\n",
            " [35.80567292 35.81750833 35.77822016 35.80065628]\n",
            " [35.67977523 35.77679141 36.34393881 36.49304657]]\n",
            "Error (desviación + media): 1.0793239503560774\n",
            "\n",
            "Solución tratamiento: 1\n",
            "[[36.7406232  36.75611312 36.81042701 36.82207007]\n",
            " [36.88164526 36.89977678 37.00507429 37.1078777 ]\n",
            " [37.18726225 37.27212508 37.39062235 37.44900405]]\n",
            "Error (desviación + media): 0.7695953581599273\n",
            "\n",
            "Solución tratamiento: 2\n",
            "[[37.56807727 37.7449105  38.03319669 38.07774999]\n",
            " [38.11320402 38.23049529 38.25368684 38.29192031]\n",
            " [38.34266755 38.42954164 38.51189884 38.64957913]]\n",
            "Error (desviación + media): 1.0168627203433973\n",
            "\n",
            "SOLUCIONES MACHOS...\n",
            "\n",
            "Solución tratamiento: 0\n",
            "[[35.1308044  35.21860872 35.34669777 35.81768218]\n",
            " [35.58124026 35.58421763 35.59421522 35.53648405]\n",
            " [35.85622558 36.19122035 36.29494022 36.31179497]]\n",
            "Error (desviación + media): 1.255603424736444\n",
            "\n",
            "Solución tratamiento: 1\n",
            "[[36.37899935 36.43121496 36.86185206 37.05420436]\n",
            " [36.75610308 36.76307272 36.64522729 36.71095416]\n",
            " [37.06044867 37.06248973 37.18605423 37.38412752]]\n",
            "Error (desviación + media): 0.9559190942019395\n",
            "\n",
            "Solución tratamiento: 2\n",
            "[[37.67428885 37.73421994 37.81849147 37.85312629]\n",
            " [37.97381479 37.99345623 38.13835832 38.14020886]\n",
            " [38.32058483 38.35723142 38.56316772 38.74349733]]\n",
            "Error (desviación + media): 1.0445492754312744\n",
            "\n"
          ],
          "name": "stdout"
        }
      ]
    },
    {
      "metadata": {
        "id": "tgrnsC2nkFa8",
        "colab_type": "text"
      },
      "cell_type": "markdown",
      "source": [
        "Calcula la complejidad del algoritmo por fuerza bruta"
      ]
    },
    {
      "metadata": {
        "id": "9eUd3xwckP68",
        "colab_type": "text"
      },
      "cell_type": "markdown",
      "source": [
        "Respuesta:\n",
        "\n",
        "Nuestro algoritmo de fuerza bruta llama a una función que tiene 3 bucles for anidados. Esa función tiene orden 0(n^3).\n",
        "\n",
        "Teniendo en cuenta que nuestro algoritmo tiene un bucle while, en el peor de los casos donde la mejor solución sea la última, el orden será factorial.\n",
        "\n",
        "Por tanto, mejor caso O(n^3), peor caso O(n!)."
      ]
    },
    {
      "metadata": {
        "id": "rvZWwL-ckRST",
        "colab_type": "code",
        "colab": {}
      },
      "cell_type": "code",
      "source": [
        ""
      ],
      "execution_count": 0,
      "outputs": []
    },
    {
      "metadata": {
        "id": "txbrmLmskReM",
        "colab_type": "text"
      },
      "cell_type": "markdown",
      "source": [
        "(*)Diseña un algoritmo que mejore la complejidad del algortimo por fuerza bruta. Argumenta porque crees que mejora el algoritmo por fuerza bruta"
      ]
    },
    {
      "metadata": {
        "id": "hLrVwt5QkZPD",
        "colab_type": "text"
      },
      "cell_type": "markdown",
      "source": [
        "Respuesta:\n",
        "\n",
        "> Voy a implementar un algoritmo evolutivo\n",
        "\n",
        "### Creación población inicial"
      ]
    },
    {
      "metadata": {
        "id": "m1eyM21Vkabg",
        "colab_type": "code",
        "outputId": "9fce3b97-3c12-4e76-93b3-df925edba224",
        "colab": {
          "base_uri": "https://localhost:8080/",
          "height": 306
        }
      },
      "cell_type": "code",
      "source": [
        "# Creo un tratamiento haciendo múltiples permutaciones del grupo inicial\n",
        "def crear_tratamiento(grupos_iniciales):\n",
        "  # Me sirve para crear una nueva variable por valor\n",
        "  tratamiento = copy.deepcopy(grupos_iniciales)\n",
        "\n",
        "  # Por cada grupo excepto el último porque ya habrá sido utilizado\n",
        "  for i in range(len(grupos_iniciales)-1):\n",
        "    # Por cada ternero del grupo\n",
        "    for j in range(len(grupos_iniciales[i])):\n",
        "      # Por cada ternero del siguiente grupo\n",
        "      for k in range(len(grupos_iniciales[i+1])):\n",
        "        # Intercambio terneros distintos cada vez\n",
        "        tmp = tratamiento[i+1][k]\n",
        "        tratamiento[i+1][k] = tratamiento[i][j]\n",
        "        tratamiento[i][j] = tmp\n",
        "        \n",
        "  return tratamiento\n",
        "  \n",
        "def crear_poblacion_inicial(num_poblaciones, num_grupos, tamanyo_grupos, matriz_grupos):\n",
        "  # Creo una matriz tridimensional vacia para tener todas las poblaciones\n",
        "  poblacion = np.zeros(shape=(num_poblaciones, num_grupos, tamanyo_grupos))\n",
        "  \n",
        "  # Añado la primera población creada aleatoriamente\n",
        "  poblacion[0] = crear_tratamiento(matriz_grupos[0])\n",
        "  # La segunda será una variación de la primera\n",
        "  poblacion[1] = crear_tratamiento(poblacion[0])\n",
        "  \n",
        "  # El resto de poblaciones las genero en base a las otras poblaciones\n",
        "  for i in range(2, num_poblaciones):\n",
        "    poblacion[i] = crear_tratamiento(matriz_grupos[i-1])\n",
        "  \n",
        "  return poblacion\n",
        "\n",
        "tamanyo_grupos = len(terneros_machos.index)//grupos\n",
        "print(\"Población inicial generada:\\n\")\n",
        "poblacion = crear_poblacion_inicial(4, 3, tamanyo_grupos, matriz_grupos_hembras)\n",
        "print(poblacion)"
      ],
      "execution_count": 31,
      "outputs": [
        {
          "output_type": "stream",
          "text": [
            "Población inicial generada:\n",
            "\n",
            "[[[35.80065628 35.77822016 35.77679141 35.67977523]\n",
            "  [36.49304657 36.34393881 35.81750833 35.80567292]\n",
            "  [35.32026433 35.40729227 35.56284345 35.58362782]]\n",
            "\n",
            " [[35.80567292 35.81750833 36.34393881 36.49304657]\n",
            "  [35.58362782 35.56284345 35.40729227 35.32026433]\n",
            "  [35.80065628 35.77822016 35.77679141 35.67977523]]\n",
            "\n",
            " [[37.1078777  37.00507429 36.89977678 36.88164526]\n",
            "  [37.44900405 37.39062235 37.27212508 37.18726225]\n",
            "  [36.7406232  36.75611312 36.81042701 36.82207007]]\n",
            "\n",
            " [[38.29192031 38.25368684 38.23049529 38.11320402]\n",
            "  [38.64957913 38.51189884 38.42954164 38.34266755]\n",
            "  [37.56807727 37.7449105  38.03319669 38.07774999]]]\n"
          ],
          "name": "stdout"
        }
      ]
    },
    {
      "metadata": {
        "id": "oB-MrlrPmYfo",
        "colab_type": "text"
      },
      "cell_type": "markdown",
      "source": [
        "### Selección de poblaciones"
      ]
    },
    {
      "metadata": {
        "id": "KhUIxAmymcm5",
        "colab_type": "code",
        "outputId": "f3ec4340-757d-48f6-8ce1-916f931c73dc",
        "colab": {
          "base_uri": "https://localhost:8080/",
          "height": 34
        }
      },
      "cell_type": "code",
      "source": [
        "def normalized(a, axis=-1, order=2):\n",
        "    l2 = np.atleast_1d(np.linalg.norm(a, order, axis))\n",
        "    l2[l2==0] = 1\n",
        "    return a / np.expand_dims(l2, axis)\n",
        "  \n",
        "def calcular_errores(poblacion):\n",
        "  errores = []\n",
        "  # Calculamos los errores de la población\n",
        "  for i in range(len(poblacion)):\n",
        "    (desv, med) = funcion_objetivo(poblacion[i])\n",
        "    errores.append(desv + med)\n",
        "  \n",
        "  return errores\n",
        "\n",
        "# Devolvemos qué población debemos eliminar\n",
        "def seleccionar(poblacion):\n",
        "\n",
        "  errores = calcular_errores(poblacion)\n",
        "  errores = normalized(errores)\n",
        "  # Normalizamos los errores\n",
        "  # Buscamos el índice del elemento que hay que eliminar\n",
        "  indice_eliminar =  np.argmax(errores)\n",
        "  \n",
        "  return indice_eliminar\n",
        "  \n",
        "seleccionar(poblacion)"
      ],
      "execution_count": 32,
      "outputs": [
        {
          "output_type": "execute_result",
          "data": {
            "text/plain": [
              "0"
            ]
          },
          "metadata": {
            "tags": []
          },
          "execution_count": 32
        }
      ]
    },
    {
      "metadata": {
        "id": "cQJRWg6Hqinp",
        "colab_type": "text"
      },
      "cell_type": "markdown",
      "source": [
        "### Cruzar"
      ]
    },
    {
      "metadata": {
        "id": "o622eBH-qkwC",
        "colab_type": "code",
        "outputId": "76d3674a-1e56-4ea0-f600-160f1cde2efa",
        "colab": {
          "base_uri": "https://localhost:8080/",
          "height": 272
        }
      },
      "cell_type": "code",
      "source": [
        "# Nos ayuda a no poner genes duplicados en nuestro hijo\n",
        "def esta_gen_en_poblacion(hijo, gen):\n",
        "  for elemento in hijo.flat:\n",
        "    for alelo in gen:\n",
        "      if(elemento == alelo):\n",
        "        return True\n",
        "  return False\n",
        "\n",
        "# Nos ayuda a no poner genes duplicados en nuestro hijo\n",
        "def esta_alelo_en_poblacion(hijo, alelo):\n",
        "  for elemento in hijo.flat:\n",
        "      if(elemento == alelo):\n",
        "        return True\n",
        "  return False\n",
        "\n",
        "def limpiar_arrays(vector, indices, i):\n",
        "  del vector[i]\n",
        "  del indices[-1]\n",
        "  \n",
        "def coger_alelo_aleatorio(vector):\n",
        "  indices = [i for i in range(len(vector))]\n",
        "  indice_array = np.random.choice(indices)\n",
        "  \n",
        "  indices = [i for i in range(len(vector[indice_array]))]\n",
        "  indice_alelo = np.random.choice(indices)\n",
        "  \n",
        "  return vector[indice_array][indice_alelo]\n",
        "  \n",
        "\n",
        "def cruzar(poblacion, indice_eliminar):\n",
        "\n",
        "  # Elimino la población con más errores\n",
        "  errores = calcular_errores(poblacion)\n",
        "  errores = normalized(errores)\n",
        "  errores = np.delete(errores, indice_eliminar)\n",
        "  # Calculo los errores para después asignar probabilidades\n",
        "  for i in range(len(errores)):\n",
        "    errores[i] = 1 - errores[i]\n",
        "  \n",
        "  # Queremos asignar porcentajes de probabilidad para cruzar\n",
        "  probabilidades = []\n",
        "  for i in range(len(errores)):\n",
        "    probabilidades.append(errores[i]/np.sum(errores))\n",
        "    \n",
        "  # Necesito los indices para seleccionar individuos a cruzarse\n",
        "  indices = [i for i in range(3)]\n",
        "  eleccion_a = np.random.choice(indices, p=probabilidades)\n",
        "  eleccion_b = np.random.choice(indices, p=probabilidades)\n",
        "  # No queremos duplicados\n",
        "  while (eleccion_a == eleccion_b):\n",
        "    eleccion_b = np.random.choice(indices, p=probabilidades)\n",
        "    \n",
        "  # Ahora cruzamos\n",
        "  # Convertimos la matriz en una lista de vectores por facilidad\n",
        "  vector_a = list(np.array(poblacion[eleccion_a]))\n",
        "  vector_b = list(np.array(poblacion[eleccion_b]))\n",
        "\n",
        "  # Creo el hijo, de momento vacio\n",
        "  hijo = np.zeros(shape=(3, tamanyo_grupos))\n",
        "  # Necesito los indices para seleccionar genes\n",
        "  indices_a = [i for i in range(len(vector_a))]\n",
        "  indices_b = [i for i in range(len(vector_b))]\n",
        "  \n",
        "\n",
        "  for i in range(3):\n",
        "    if (i%2 == 0):\n",
        "      indice_a = 0\n",
        "      gen_a = list(vector_a[indice_a])\n",
        "\n",
        "      # Comprobamos si el gen ya estaba dentro      \n",
        "      if(esta_gen_en_poblacion(hijo, gen_a)):\n",
        "        j = 0\n",
        "        for alelo in gen_a:\n",
        "          if(esta_alelo_en_poblacion(hijo, alelo)):\n",
        "            continue\n",
        "          else:\n",
        "            hijo[i][j] = alelo\n",
        "            j += 1\n",
        "        \n",
        "        # Quizás algún alelo se ha quedado sin rellenar\n",
        "        for k in range(len(hijo[i])):\n",
        "          if (hijo[i][k] == 0.0):\n",
        "            \n",
        "            a_b = 0\n",
        "            alelo_escogido = coger_alelo_aleatorio(vector_a)       \n",
        "            while(esta_alelo_en_poblacion(hijo, alelo_escogido)):\n",
        "              a_b += 1\n",
        "              if (a_b % 2 == 0):\n",
        "                alelo_escogido = coger_alelo_aleatorio(vector_a) \n",
        "              else:\n",
        "                alelo_escogido = coger_alelo_aleatorio(vector_b) \n",
        "            \n",
        "            hijo[i][k] = alelo_escogido\n",
        "                \n",
        "        limpiar_arrays(vector_b, indices_b, indice_a)\n",
        "        \n",
        "      else:\n",
        "        hijo[i] = gen_a\n",
        "        # Lo elimino para no volver a usarlo\n",
        "        limpiar_arrays(vector_a, indices_a, indice_a)\n",
        "      \n",
        "    else:\n",
        "      indice_b = 0\n",
        "      gen_b = list(vector_b[indice_b])\n",
        "\n",
        "      # Comprobamos si el gen ya estaba dentro      \n",
        "      if(esta_gen_en_poblacion(hijo, gen_b)):\n",
        "        j = 0\n",
        "        for alelo in gen_b:\n",
        "          if(esta_alelo_en_poblacion(hijo, alelo)):\n",
        "            continue\n",
        "          else:\n",
        "            hijo[i][j] = alelo\n",
        "            j += 1\n",
        "            \n",
        "        # Quizás algún alelo se ha quedado sin rellenar\n",
        "        for k in range(len(hijo[i])):\n",
        "          if (hijo[i][k] == 0.0):\n",
        "            \n",
        "            a_b = 0\n",
        "            alelo_escogido = coger_alelo_aleatorio(vector_b)       \n",
        "            while(esta_alelo_en_poblacion(hijo, alelo_escogido)):\n",
        "              a_b += 1\n",
        "              if (a_b % 2 == 0):\n",
        "                alelo_escogido = coger_alelo_aleatorio(vector_b) \n",
        "              else:\n",
        "                alelo_escogido = coger_alelo_aleatorio(vector_a) \n",
        "            \n",
        "            hijo[i][k] = alelo_escogido\n",
        "        \n",
        "        limpiar_arrays(vector_b, indices_b, indice_b)\n",
        "        \n",
        "      else:\n",
        "        hijo[i] = gen_b\n",
        "        limpiar_arrays(vector_b, indices_b, indice_b)\n",
        "\n",
        "  # Finalmente, añado el hijo a la población\n",
        "  poblacion[indice_eliminar] = hijo\n",
        "\n",
        "  return poblacion\n",
        "  \n",
        "  \n",
        "cruzar(poblacion, seleccionar(poblacion))"
      ],
      "execution_count": 33,
      "outputs": [
        {
          "output_type": "execute_result",
          "data": {
            "text/plain": [
              "array([[[35.80567292, 35.81750833, 36.34393881, 36.49304657],\n",
              "        [35.80065628, 35.77822016, 35.77679141, 35.67977523],\n",
              "        [35.58362782, 35.56284345, 35.40729227, 35.32026433]],\n",
              "\n",
              "       [[35.80567292, 35.81750833, 36.34393881, 36.49304657],\n",
              "        [35.58362782, 35.56284345, 35.40729227, 35.32026433],\n",
              "        [35.80065628, 35.77822016, 35.77679141, 35.67977523]],\n",
              "\n",
              "       [[37.1078777 , 37.00507429, 36.89977678, 36.88164526],\n",
              "        [37.44900405, 37.39062235, 37.27212508, 37.18726225],\n",
              "        [36.7406232 , 36.75611312, 36.81042701, 36.82207007]],\n",
              "\n",
              "       [[38.29192031, 38.25368684, 38.23049529, 38.11320402],\n",
              "        [38.64957913, 38.51189884, 38.42954164, 38.34266755],\n",
              "        [37.56807727, 37.7449105 , 38.03319669, 38.07774999]]])"
            ]
          },
          "metadata": {
            "tags": []
          },
          "execution_count": 33
        }
      ]
    },
    {
      "metadata": {
        "id": "JnxOTUTMMP7H",
        "colab_type": "text"
      },
      "cell_type": "markdown",
      "source": [
        "### Ejecución algoritmo evolutivo:\n",
        "\n"
      ]
    },
    {
      "metadata": {
        "id": "3cJ_MQ2dvPkO",
        "colab_type": "code",
        "colab": {
          "base_uri": "https://localhost:8080/",
          "height": 595
        },
        "outputId": "3f51e81c-49ca-4104-e8fe-60db41e49dd6"
      },
      "cell_type": "code",
      "source": [
        "def ejecutar_algoritmo(poblacion, num_iteraciones):\n",
        "  iteracion = 0\n",
        "  while(iteracion < num_iteraciones):\n",
        "    iteracion += 1\n",
        "    # Seleccionamos y cruzamos\n",
        "    poblacion = cruzar(poblacion, seleccionar(poblacion))\n",
        "    \n",
        "  # Elimino el individuo peor de los 3\n",
        "  indice_eliminar = seleccionar(poblacion)\n",
        "  poblacion = poblacion[np.arange(len(poblacion))!=indice_eliminar]\n",
        "  \n",
        "  return (calcular_errores(poblacion), poblacion)\n",
        "    \n",
        "tamanyo_grupos = len(terneros_hembras.index)//grupos\n",
        "\n",
        "poblacion = crear_poblacion_inicial(4, 3, tamanyo_grupos, matriz_grupos_hembras)\n",
        "(errores_totales, poblacion_hembras) = ejecutar_algoritmo(poblacion, 1000)\n",
        "\n",
        "print(\"Los errores de las hembras son: \\n\")\n",
        "print(errores_totales)\n",
        "print(\"\\nLa población generada de las hembras es: \\n\")\n",
        "print(poblacion_hembras)\n",
        "\n",
        "tamanyo_grupos = len(terneros_machos.index)//grupos\n",
        "poblacion = crear_poblacion_inicial(4, 3, tamanyo_grupos, matriz_grupos_machos)\n",
        "(errores_totales, poblacion_machos) = ejecutar_algoritmo(poblacion, 1000)\n",
        "\n",
        "print(\"Los errores de los machos son: \\n\")\n",
        "print(errores_totales)\n",
        "print(\"\\nLa población generada de los machos es: \\n\")\n",
        "print(poblacion_machos)"
      ],
      "execution_count": 35,
      "outputs": [
        {
          "output_type": "stream",
          "text": [
            "Los errores de las hembras son: \n",
            "\n",
            "[0.7311457035249975, 0.7311457035249975, 0.7311457035249975]\n",
            "\n",
            "La población generada de las hembras es: \n",
            "\n",
            "[[[37.1078777  37.00507429 36.89977678 36.88164526]\n",
            "  [36.81042701 36.82207007 37.39062235 37.18726225]\n",
            "  [36.75611312 37.27212508 36.7406232  37.44900405]]\n",
            "\n",
            " [[37.1078777  37.00507429 36.89977678 36.88164526]\n",
            "  [36.81042701 37.18726225 37.39062235 36.82207007]\n",
            "  [36.75611312 37.27212508 36.7406232  37.44900405]]\n",
            "\n",
            " [[37.1078777  37.00507429 36.89977678 36.88164526]\n",
            "  [37.39062235 36.82207007 37.18726225 36.81042701]\n",
            "  [37.27212508 36.7406232  36.75611312 37.44900405]]]\n",
            "Los errores de los machos son: \n",
            "\n",
            "[0.7949738769728203, 0.7949738769728203, 0.7949738769728203]\n",
            "\n",
            "La población generada de los machos es: \n",
            "\n",
            "[[[37.05420436 36.86185206 36.76307272 36.75610308]\n",
            "  [36.71095416 36.64522729 37.06248973 37.06044867]\n",
            "  [37.38412752 36.43121496 36.37899935 37.18605423]]\n",
            "\n",
            " [[37.05420436 36.86185206 36.76307272 36.75610308]\n",
            "  [36.64522729 36.71095416 37.06044867 37.06248973]\n",
            "  [36.43121496 37.38412752 37.18605423 36.37899935]]\n",
            "\n",
            " [[37.05420436 36.86185206 36.76307272 36.75610308]\n",
            "  [36.64522729 37.06248973 37.06044867 36.71095416]\n",
            "  [37.18605423 36.43121496 37.38412752 36.37899935]]]\n"
          ],
          "name": "stdout"
        }
      ]
    },
    {
      "metadata": {
        "id": "eGDB4K6uk1iN",
        "colab_type": "text"
      },
      "cell_type": "markdown",
      "source": [
        "(*)Calcula la complejidad del algoritmo "
      ]
    },
    {
      "metadata": {
        "id": "NhpTh_BPk1ms",
        "colab_type": "text"
      },
      "cell_type": "markdown",
      "source": [
        "Respuesta:\n",
        "\n",
        "tamaño de los grupos = **g**\n",
        "\n",
        "número de terneros = **n**\n",
        "\n",
        "número de iteraciones = **i**\n",
        "\n",
        "funcion_objetivo = O(g)\n",
        "\n",
        "calcular_errores = O(n)\n",
        "\n",
        "seleccionar = O(g^2)\n",
        "\n",
        "cruzar = O(g^2 + n^2)\n",
        "\n",
        "**algoritmo evolutivo = O(i*(g^2 + n^2) )**\n",
        "\n",
        "Por tanto el orden de nuestro algoritmo es polinomial O(n^2)\n"
      ]
    },
    {
      "metadata": {
        "id": "3M6QjTsSkmYe",
        "colab_type": "text"
      },
      "cell_type": "markdown",
      "source": [
        "**Según el problema (y tenga sentido), diseña un juego de datos de entrada aleatorios**"
      ]
    },
    {
      "metadata": {
        "id": "Jc3_OlyNkvjZ",
        "colab_type": "text"
      },
      "cell_type": "markdown",
      "source": [
        "Respuesta:\n",
        "\n",
        "> En la sección \"Creación de la estructura de datos\" podrá encontrar una generación aleatoria de terneros machos y hembra."
      ]
    },
    {
      "metadata": {
        "id": "zy5ZROmjlGo1",
        "colab_type": "text"
      },
      "cell_type": "markdown",
      "source": [
        "Aplica el algoritmo al juego de datos generado"
      ]
    },
    {
      "metadata": {
        "id": "_Cmj-PVylMsa",
        "colab_type": "text"
      },
      "cell_type": "markdown",
      "source": [
        "Respuesta\n",
        "\n",
        "Comp puedes comprobar un poco más arriba, nuestro algoritmo evolutivo ha conseguido mejorar el error:\n",
        "\n",
        "\n",
        "1.   Para las hembras: de 0.7695953581599273 en fuerza bruta  a 0.7311457035249975 en evolutivo\n",
        "2.   Para los machos: de 0.9559190942019395 en fuerza bruta a 0.7949738769728203 en evolutivo\n",
        "\n",
        "El problema está en que al ser un algoritmo evolutivo es heurístico. Por tanto, es no determinista y hay veces que los resultados son peores que con fuerza bruta.\n"
      ]
    },
    {
      "metadata": {
        "colab_type": "text",
        "id": "eTFWUJQrtGcv"
      },
      "cell_type": "markdown",
      "source": [
        "Enumera las referencias que has utilizado(si ha sido necesario) para llevar a cabo el trabajo"
      ]
    },
    {
      "metadata": {
        "id": "YKQ_mRBttWsP",
        "colab_type": "text"
      },
      "cell_type": "markdown",
      "source": [
        "Respuesta\n",
        "\n",
        "> He utilizado las librerías [numpy](https://docs.scipy.org/doc/) y [panda](https://pandas.pydata.org/pandas-docs/stable/getting_started/tutorials.html) para el manejo de datos."
      ]
    },
    {
      "metadata": {
        "id": "kAkDPUyRtYyH",
        "colab_type": "text"
      },
      "cell_type": "markdown",
      "source": [
        "Describe brevemente las lineas de como crees que es posible avanzar en el estudio del problema. Ten en cuenta incluso posibles variaciones del problema y/o variaciones al alza del tamaño"
      ]
    },
    {
      "metadata": {
        "id": "IE0uZmo-tZu-",
        "colab_type": "text"
      },
      "cell_type": "markdown",
      "source": [
        "Respuesta\n",
        "\n",
        "> Debería añadir mutaciones al algoritmo evolutivo porque ello aumentaría la variedad genética. Además, tengo algunos problemas con los mínimos locales, muchas veces no mejora lo que debería ejecutando más iteraciones.\n",
        "\n"
      ]
    }
  ]
}