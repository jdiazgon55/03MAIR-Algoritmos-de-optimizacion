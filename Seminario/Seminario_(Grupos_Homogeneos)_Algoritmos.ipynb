{
  "nbformat": 4,
  "nbformat_minor": 0,
  "metadata": {
    "colab": {
      "name": "Seminario (Grupos Homogeneos) - Algoritmos.ipynb",
      "version": "0.3.2",
      "provenance": [],
      "collapsed_sections": [],
      "include_colab_link": true
    },
    "kernelspec": {
      "name": "python3",
      "display_name": "Python 3"
    }
  },
  "cells": [
    {
      "cell_type": "markdown",
      "metadata": {
        "id": "view-in-github",
        "colab_type": "text"
      },
      "source": [
        "<a href=\"https://colab.research.google.com/github/paella55/03MAIR-Algoritmos-de-optimizacion/blob/master/Seminario/Seminario_(Grupos_Homogeneos)_Algoritmos.ipynb\" target=\"_parent\"><img src=\"https://colab.research.google.com/assets/colab-badge.svg\" alt=\"Open In Colab\"/></a>"
      ]
    },
    {
      "metadata": {
        "id": "hVbXYX-RfPWh",
        "colab_type": "text"
      },
      "cell_type": "markdown",
      "source": [
        "# Algoritmos de optimización - Seminario<br>\n",
        "Nombre y Apellidos:  Jaime Díaz González <br>\n",
        "Url: https://github.com/paella55/03MAIR-Algoritmos-de-optimizacion/blob/master/Seminario/Seminario_(Grupos_Homogeneos)_Algoritmos.ipynb<br>\n",
        "Problema:\n",
        "> 1. Elección de grupos de población homogéneos \n",
        "\n",
        "Descripción del problema: \n",
        "Se solicita diseñar un algoritmo para conseguir una agrupación de terneros en grupos de tratamientos que cumplan de la\n",
        "mejor manera posible las especificaciones de la productora.\n",
        "\n",
        "(*) La respuesta es obligatoria\n",
        "\n",
        "\n",
        "\n",
        "\n",
        "\n",
        "                                        "
      ]
    },
    {
      "metadata": {
        "id": "3_-exlrTgLd-",
        "colab_type": "text"
      },
      "cell_type": "markdown",
      "source": [
        " (*)¿Cuantas posibilidades hay sin tener en cuenta las restricciones? ****<br>\n",
        "\n",
        "\n",
        "\n",
        "**¿Cuantas posibilidades hay teniendo en cuenta todas las restricciones.**\n",
        "\n",
        "\n"
      ]
    },
    {
      "metadata": {
        "id": "WfCUqJyKhPcw",
        "colab_type": "text"
      },
      "cell_type": "markdown",
      "source": [
        "Respuesta:<br>\n",
        "Sin restricciones, tenemos un total de N! soluciones.\n",
        "\n",
        "Con restricciones:\n",
        "\n",
        "Teniendo en cuenta que tenemos un total de N terneros que tenemos que dividir en 3 tratamientos diferentes por 3 grupos cada uno:\n",
        "\n",
        "Dividimos los terneros en 3 tratamientos distintos -> N/3\n",
        "\n",
        "Como los tratamientos son independientes entre sí, vamos a empezar a contar con un solo tratamiento.\n",
        "\n",
        "N/3 terneros / 3 grupos  = N/9. Sabiendo que las permutaciones de terneros dentro del mismo grupo no cambian nada, tenemos un total de (N/9)! posibilidades por cada tratamiento.\n",
        "\n",
        "Ahora sumamos los tratamientos -> 3*(N/9)! en total"
      ]
    },
    {
      "metadata": {
        "id": "dzynfVJahHoY",
        "colab_type": "text"
      },
      "cell_type": "markdown",
      "source": [
        "**Modelo para el espacio de soluciones<br>**\n",
        "(*) ¿Cual es la estructura de datos que mejor se adapta al problema? Argumentalo.(Es posible que hayas elegido una al principio y veas la necesidad de cambiar, arguentalo)\n"
      ]
    },
    {
      "metadata": {
        "id": "xFIJrOwKi2Ti",
        "colab_type": "text"
      },
      "cell_type": "markdown",
      "source": [
        "Respuesta:\n",
        "\n",
        "Desde el principio he decido utilizar dos librerias muy interesantes para el manejo de estructuras de datos.\n",
        "\n",
        "He utilizado Panda DataFrames para simular los datos que me da el cliente de sus terneros. Es una tabla de dos columnas (Peso y Sexo) que en cada instancia guardan un valor. Panda tiene una gran cantidad de funciones interesantes para filtrar datos, además de que visualmente queda bastante organizado. Por todas estas razones lo he utilizado.\n",
        "\n",
        "Para el espacio de soluciones, he decidido utilizar Numpy, que es una libreria muy utilizada en el ámbito matemático para el manejo de vectores y matrices.\n",
        "\n",
        "Para cada tratamiento tendremos una matriz de 3 filas. Cada fila serán los grupos. Dentro de cada grupo tendremos los individuos. La forma de acceder al grupo 2, al individuo 3 sería: grupos[1][2] porque los índices empiezan por 0.\n",
        "\n",
        "Numpy, entre otras cosas, me ayuda a calcular la media y la desviación típica de un vector."
      ]
    },
    {
      "metadata": {
        "id": "Xn_ZQqRNzlRy",
        "colab_type": "text"
      },
      "cell_type": "markdown",
      "source": [
        "### Creación de la estructura de datos"
      ]
    },
    {
      "metadata": {
        "id": "38c-7-ejhJmA",
        "colab_type": "code",
        "outputId": "055f78b7-3e5d-4fd6-cab3-add1cf66e8d5",
        "colab": {
          "base_uri": "https://localhost:8080/",
          "height": 204
        }
      },
      "cell_type": "code",
      "source": [
        "# librería externa para guardar los datos en tablas\n",
        "import pandas as pd\n",
        "from pandas import Series, DataFrame\n",
        "\n",
        "import random\n",
        "# liberia externa para manejo de vectores\n",
        "import numpy as np\n",
        "\n",
        "# Número de terneros\n",
        "N = 80\n",
        "# Número de tratamientos\n",
        "tratamientos = 3\n",
        "# Número de grupos\n",
        "grupos = tratamientos*3\n",
        "\n",
        "# Generamos datos\n",
        "# Siguiendo la desviación estandar y la media del peso\n",
        "pesos_terneros = np.random.uniform(low=35.0, high=39.1, size=(N,))\n",
        "# Ahora hacemos machos y hembras\n",
        "machos_hembras = []\n",
        "for i in range(N):\n",
        "  machos_hembras.append(random.choice('MH'))\n",
        "\n",
        "def crear_tabla():\n",
        "  # Me creo las columnas y le añado los valores\n",
        "  terneros_dict = {\"Peso\": pesos_terneros, \"Sexo\": machos_hembras}\n",
        "  # Creo la tabla que almacena los valores\n",
        "  terneros_tabla = DataFrame(terneros_dict)\n",
        "  return terneros_tabla\n",
        "\n",
        "terneros_tabla = crear_tabla()\n",
        "# Muestro 5 de entre todos\n",
        "terneros_tabla.sample(5)"
      ],
      "execution_count": 104,
      "outputs": [
        {
          "output_type": "execute_result",
          "data": {
            "text/html": [
              "<div>\n",
              "<style scoped>\n",
              "    .dataframe tbody tr th:only-of-type {\n",
              "        vertical-align: middle;\n",
              "    }\n",
              "\n",
              "    .dataframe tbody tr th {\n",
              "        vertical-align: top;\n",
              "    }\n",
              "\n",
              "    .dataframe thead th {\n",
              "        text-align: right;\n",
              "    }\n",
              "</style>\n",
              "<table border=\"1\" class=\"dataframe\">\n",
              "  <thead>\n",
              "    <tr style=\"text-align: right;\">\n",
              "      <th></th>\n",
              "      <th>Peso</th>\n",
              "      <th>Sexo</th>\n",
              "    </tr>\n",
              "  </thead>\n",
              "  <tbody>\n",
              "    <tr>\n",
              "      <th>14</th>\n",
              "      <td>37.005303</td>\n",
              "      <td>M</td>\n",
              "    </tr>\n",
              "    <tr>\n",
              "      <th>64</th>\n",
              "      <td>37.820482</td>\n",
              "      <td>M</td>\n",
              "    </tr>\n",
              "    <tr>\n",
              "      <th>79</th>\n",
              "      <td>37.408008</td>\n",
              "      <td>H</td>\n",
              "    </tr>\n",
              "    <tr>\n",
              "      <th>25</th>\n",
              "      <td>36.190194</td>\n",
              "      <td>M</td>\n",
              "    </tr>\n",
              "    <tr>\n",
              "      <th>24</th>\n",
              "      <td>37.195404</td>\n",
              "      <td>M</td>\n",
              "    </tr>\n",
              "  </tbody>\n",
              "</table>\n",
              "</div>"
            ],
            "text/plain": [
              "         Peso Sexo\n",
              "14  37.005303    M\n",
              "64  37.820482    M\n",
              "79  37.408008    H\n",
              "25  36.190194    M\n",
              "24  37.195404    M"
            ]
          },
          "metadata": {
            "tags": []
          },
          "execution_count": 104
        }
      ]
    },
    {
      "metadata": {
        "id": "fmGGhWvOzpoh",
        "colab_type": "text"
      },
      "cell_type": "markdown",
      "source": [
        "### Filtrado de datos"
      ]
    },
    {
      "metadata": {
        "id": "f2-nvlQezzhK",
        "colab_type": "code",
        "colab": {}
      },
      "cell_type": "code",
      "source": [
        "# Ahora vamos a organizar los datos por sexo\n",
        "terneros_machos = terneros_tabla[terneros_tabla['Sexo'] == 'M']\n",
        "terneros_hembras = terneros_tabla[terneros_tabla['Sexo'] == 'H']\n",
        "\n",
        "# Reiniciamos sus indices\n",
        "terneros_machos = terneros_machos.reset_index(drop=True)\n",
        "terneros_hembras = terneros_hembras.reset_index(drop=True)\n",
        "\n",
        "# Ahora voy a ver cuantos terneros tengo que descartar, porque los grupos\n",
        "# tienen que ser iguales en número.\n",
        "machos_sobrantes = len(terneros_machos.index) % grupos\n",
        "hembras_sobrantes = len(terneros_hembras.index) % grupos\n",
        "\n",
        "# Descartamos los mayores y los menores pesos (outliers)\n",
        "def descartar_terneros(df: DataFrame, num_descartar):\n",
        "  \n",
        "  for i in range(num_descartar):\n",
        "    # En la iteración par, mayores\n",
        "    if i % 2 == 0:\n",
        "      indice = df['Peso'].idxmax()\n",
        "      df = df.drop(df.index[indice])\n",
        "      df = df.reset_index(drop=True)\n",
        "    # En la iteración impar, menores\n",
        "    else:\n",
        "      indice = df['Peso'].idxmin()\n",
        "      df = df.drop(df.index[indice])\n",
        "      df = df.reset_index(drop=True)\n",
        "  return df\n",
        "\n",
        "# Descartamos terneros macho y reiniciamos los indices\n",
        "terneros_machos = descartar_terneros(terneros_machos, machos_sobrantes)\n",
        "terneros_machos = terneros_machos.reset_index(drop=True)\n",
        "# Descartamos terneros hembra y reiniciamos los indices\n",
        "terneros_hembras = descartar_terneros(terneros_hembras, hembras_sobrantes)\n",
        "terneros_hembras = terneros_hembras.reset_index(drop=True)"
      ],
      "execution_count": 0,
      "outputs": []
    },
    {
      "metadata": {
        "id": "p_adYqGEBS0h",
        "colab_type": "text"
      },
      "cell_type": "markdown",
      "source": [
        "### Crear matriz de tratamientos"
      ]
    },
    {
      "metadata": {
        "id": "y4p9YKZ6BXLJ",
        "colab_type": "code",
        "outputId": "a07b2825-6818-4eeb-bd5f-078d7dbf4f5e",
        "colab": {
          "base_uri": "https://localhost:8080/",
          "height": 51
        }
      },
      "cell_type": "code",
      "source": [
        "# Intentamos encontrar los mínimos, para tener grupos iniciales mejores\n",
        "def encontrar_minimos(df: DataFrame, num_minimos):\n",
        "  # Creamos un nuevo DataFrame vacio\n",
        "  df_minimos = pd.DataFrame()\n",
        "  for i in range(num_minimos):\n",
        "    # Buscamos el mínimo y se lo añadimos\n",
        "    indice = df['Peso'].idxmin()\n",
        "    df_minimos = df_minimos.append(df.iloc[indice])\n",
        "    # Lo borramos para que no vuelva a aparecer y refrescamos los indices\n",
        "    df = df.drop(df.index[indice])\n",
        "    df = df.reset_index(drop=True)\n",
        "  \n",
        "  df_minimos = df_minimos.reset_index(drop=True)\n",
        "  return df_minimos, df\n",
        "\n",
        "def crear_matriz_tratamientos(tratamientos, grupos, tamanyo_grupos, df: DataFrame):\n",
        "\n",
        "  # Creo una matriz tridimensional vacia para tener todos los tratamientos, \n",
        "  # todos los grupos y todos los individuos\n",
        "  matriz_grupos = np.zeros(shape=(tratamientos, grupos, tamanyo_grupos))\n",
        "\n",
        "  for t in range(tratamientos):\n",
        "    for g in range(3):\n",
        "      # Busco los mínimos y los añado al tratamiento y grupo\n",
        "      (terneros_min, df) = encontrar_minimos(df, tamanyo_grupos)\n",
        "\n",
        "      individuos = matriz_grupos[t][g]\n",
        "      # Necesito los indices para poner los valores de los individuos\n",
        "      indices = [i for i in range(individuos.size)]\n",
        "      np.put(individuos, indices, terneros_min['Peso'])\n",
        "      # Finalmente pongo los individuos en la matriz\n",
        "      matriz_grupos[t][g] = individuos\n",
        "  \n",
        "  return matriz_grupos\n",
        "\n",
        "tamanyo_grupos = len(terneros_machos.index)//grupos\n",
        "\n",
        "matriz_grupos_machos = crear_matriz_tratamientos(tratamientos, 3,\n",
        "                                                 tamanyo_grupos, terneros_machos)\n",
        "\n",
        "matriz_grupos_hembras = crear_matriz_tratamientos(tratamientos, 3,\n",
        "                                                 tamanyo_grupos, terneros_hembras)\n",
        "\n",
        "print(\"Tratamiento 1 grupo 3: \" + str(matriz_grupos_machos[0][2]))\n",
        "print(\"Tratamiento 2 grupo 1: \" + str(matriz_grupos_hembras[1][0]))"
      ],
      "execution_count": 106,
      "outputs": [
        {
          "output_type": "stream",
          "text": [
            "Tratamiento 1 grupo 3: [36.1325738  36.19019357 36.21055507 36.21184921]\n",
            "Tratamiento 2 grupo 1: [35.98288195 36.04124141 36.10662781 36.1418612 ]\n"
          ],
          "name": "stdout"
        }
      ]
    },
    {
      "metadata": {
        "id": "FXF5sbX7_gOE",
        "colab_type": "text"
      },
      "cell_type": "markdown",
      "source": [
        "**Según el modelo para el espacio de soluciones<br>**\n",
        "(*)¿Cual es la función objetivo?\n",
        "\n",
        "(*)¿Es un problema de maximización o minimización?"
      ]
    },
    {
      "metadata": {
        "id": "dk81ZR0E_oxT",
        "colab_type": "text"
      },
      "cell_type": "markdown",
      "source": [
        "Respuesta: \n",
        "\n",
        "He decidido que el error de una solución se calcula mediante la siguiente formula:\n",
        "\n",
        "\n",
        "\n",
        "1.   Sumo las desviaciones de cada grupo...\n",
        "\n",
        "\n",
        "\n",
        "> desviacion_total = sumatorio(desviacion_grupo_i)\n",
        "\n",
        "\n",
        "\n",
        "2.   Calculo la media de cada grupo, y resto sus diferencias. Si las medias son más cercanas, el valor de la diferencia será menor. Todo en valor absoluto para tener valores positivos\n",
        "\n",
        "> diferencia_medias = |sumatorio(media_i - media_j)|\n",
        "\n",
        "La función objetivo a minimizar será:\n",
        "\n",
        "\n",
        "\n",
        "> F = desviacion_total + diferencia_medias\n",
        "\n",
        "Es por tanto un problema de **minimización**.\n",
        "\n",
        "\n"
      ]
    },
    {
      "metadata": {
        "id": "lKBQ0RzL1d2e",
        "colab_type": "text"
      },
      "cell_type": "markdown",
      "source": [
        "### Función objetivo"
      ]
    },
    {
      "metadata": {
        "id": "swo4LtWV1nvE",
        "colab_type": "code",
        "colab": {}
      },
      "cell_type": "code",
      "source": [
        "# Vamos ahora a crear un método para calcular la función objetivo\n",
        "def funcion_objetivo(grupos):\n",
        "  desviacion_total = 0\n",
        "  medias = []\n",
        "  # Recorremos todos los grupos\n",
        "  for i in range(len(grupos)):\n",
        "    desviacion_total = desviacion_total + np.std(grupos[i])\n",
        "    medias.append(np.average(grupos[i])) \n",
        "  \n",
        "  # Calculamos la diferencia entre medias:\n",
        "  diferencia_medias = 0\n",
        "  for i in range(len(medias)-1):\n",
        "    diferencia_medias = diferencia_medias + abs(medias[i]-medias[i+1])\n",
        "  return desviacion_total, diferencia_medias\n",
        "\n",
        "def es_mejor_solucion(grupos, error_actual):\n",
        "  (desv, med) = funcion_objetivo(grupos)\n",
        "  error_siguiente = desv + med\n",
        "  if (error_siguiente < error_actual):\n",
        "    return True, error_siguiente\n",
        "  else:\n",
        "    return False, error_actual"
      ],
      "execution_count": 0,
      "outputs": []
    },
    {
      "metadata": {
        "id": "pGol0V32qArg",
        "colab_type": "text"
      },
      "cell_type": "markdown",
      "source": [
        "### Crear entorno soluciones"
      ]
    },
    {
      "metadata": {
        "id": "E6JY3gWLqDJw",
        "colab_type": "code",
        "colab": {}
      },
      "cell_type": "code",
      "source": [
        "# Me sirve para crear una nueva variable por valor\n",
        "import copy\n",
        "\n",
        "def crear_entorno_soluciones(grupos_iniciales):\n",
        "  # Me sirve para crear una nueva variable por valor\n",
        "  mejor_solucion = copy.deepcopy(grupos_iniciales)\n",
        "  \n",
        "  # Calculo el error inicial\n",
        "  (desv, med) = funcion_objetivo(mejor_solucion)\n",
        "  error_actual = desv + med\n",
        "\n",
        "  # Por cada grupo excepto el último porque ya habrá sido utilizado\n",
        "  for i in range(len(grupos_iniciales)-1):\n",
        "    # Por cada ternero del grupo\n",
        "    for j in range(len(grupos_iniciales[i])):\n",
        "      # Por cada ternero del siguiente grupo\n",
        "      for k in range(len(grupos_iniciales[i+1])):\n",
        "        # Vuelvo a la solución inicial\n",
        "        grupos = copy.deepcopy(grupos_iniciales)\n",
        "        # Intercambio terneros distintos cada vez\n",
        "        tmp = grupos[i+1][k]\n",
        "        grupos[i+1][k] = grupos[i][j]\n",
        "        grupos[i][j] = tmp\n",
        "        \n",
        "        # Compruebo si la solución actual es mejor\n",
        "        (es_mejor, error_siguiente) = es_mejor_solucion(grupos, error_actual)\n",
        "        if (es_mejor):\n",
        "          error_actual = error_siguiente\n",
        "          mejor_solucion = copy.deepcopy(grupos)\n",
        "  \n",
        "  return mejor_solucion, error_actual"
      ],
      "execution_count": 0,
      "outputs": []
    },
    {
      "metadata": {
        "id": "_iWCpG-1qMme",
        "colab_type": "text"
      },
      "cell_type": "markdown",
      "source": [
        "### Resolución por fuerza bruta\n",
        "\n",
        "Diseña un algoritmo para resolver el problema por fuerza bruta"
      ]
    },
    {
      "metadata": {
        "id": "QGAMSox3qPSO",
        "colab_type": "code",
        "colab": {
          "base_uri": "https://localhost:8080/",
          "height": 697
        },
        "outputId": "4e38e409-eddf-4f81-8a3b-4c52f4b1c85c"
      },
      "cell_type": "code",
      "source": [
        "def fuerza_bruta(tratamiento_inicial):\n",
        "  # Me sirve para crear una nueva variable por valor\n",
        "  mejor_solucion = copy.deepcopy(tratamiento_inicial)\n",
        "  \n",
        "  # Calculo el error inicial\n",
        "  (desv, med) = funcion_objetivo(mejor_solucion)\n",
        "  error_actual = desv + med\n",
        "  \n",
        "  while(True):\n",
        "    actual, error_siguiente = crear_entorno_soluciones(mejor_solucion)\n",
        "    # Esto signfica que no hemos mejorado nada, debemos parar\n",
        "    if (error_actual == error_siguiente):\n",
        "      break\n",
        "    else:\n",
        "      error_actual = error_siguiente\n",
        "      mejor_solucion = copy.deepcopy(actual)\n",
        "      \n",
        "  return mejor_solucion, error_actual\n",
        "\n",
        "def imprimir_mejores(matriz):\n",
        "  # Por cada tratamiento\n",
        "  for i in range(len(matriz)):\n",
        "    print(\"Solución tratamiento: \" + str(i))\n",
        "    (solucion, error) = fuerza_bruta(matriz[i])\n",
        "    print(solucion)\n",
        "    print(\"Error (desviación + media): \" + str(error) + \"\\n\")\n",
        "\n",
        "print(\"SOLUCIONES HEMBRAS...\\n\")\n",
        "imprimir_mejores(matriz_grupos_hembras)\n",
        "print(\"SOLUCIONES MACHOS...\\n\")\n",
        "imprimir_mejores(matriz_grupos_machos)"
      ],
      "execution_count": 111,
      "outputs": [
        {
          "output_type": "stream",
          "text": [
            "SOLUCIONES HEMBRAS...\n",
            "\n",
            "Solución tratamiento: 0\n",
            "[[35.15138435 35.29687589 35.30369393 35.37521029]\n",
            " [35.69453293 35.71552288 35.7773687  35.86294281]\n",
            " [35.88926591 35.93814829 35.95690236 35.97306195]]\n",
            "Error (desviación + media): 0.8357507391191414\n",
            "\n",
            "Solución tratamiento: 1\n",
            "[[35.98288195 36.04124141 36.10662781 36.1418612 ]\n",
            " [36.46800851 36.55933876 36.95037648 37.40800754]\n",
            " [37.46859008 37.60703508 37.73005242 37.78534212]]\n",
            "Error (desviación + media): 2.1339912830700807\n",
            "\n",
            "Solución tratamiento: 2\n",
            "[[37.81583843 37.88684271 37.90923522 37.91739057]\n",
            " [37.98050248 38.14923344 38.26640197 38.49860193]\n",
            " [38.53031497 38.67306077 38.83918749 39.01881702]]\n",
            "Error (desviación + media): 1.294130585811494\n",
            "\n",
            "SOLUCIONES MACHOS...\n",
            "\n",
            "Solución tratamiento: 0\n",
            "[[35.84414624 35.72281252 35.74975154 35.78417619]\n",
            " [35.3151425  35.84985546 35.89641246 36.10339303]\n",
            " [36.1325738  36.19019357 36.21055507 36.21184921]]\n",
            "Error (desviación + media): 0.7795516332288077\n",
            "\n",
            "Solución tratamiento: 1\n",
            "[[36.23102732 36.24592036 36.28855212 36.38061447]\n",
            " [36.41969398 36.58083963 36.63050962 36.69606328]\n",
            " [36.75902034 37.0053031  37.19540435 37.24438857]]\n",
            "Error (desviación + media): 1.1156746465112324\n",
            "\n",
            "Solución tratamiento: 2\n",
            "[[37.48962141 37.49489446 37.65561632 37.72775247]\n",
            " [37.82048152 38.05584734 38.10788483 38.13269625]\n",
            " [38.25885856 38.46699077 38.62082595 38.82574222]]\n",
            "Error (desviación + media): 1.3854163285918597\n",
            "\n"
          ],
          "name": "stdout"
        }
      ]
    },
    {
      "metadata": {
        "id": "tgrnsC2nkFa8",
        "colab_type": "text"
      },
      "cell_type": "markdown",
      "source": [
        "Calcula la complejidad del algoritmo por fuerza bruta"
      ]
    },
    {
      "metadata": {
        "id": "9eUd3xwckP68",
        "colab_type": "text"
      },
      "cell_type": "markdown",
      "source": [
        "Respuesta:\n",
        "\n",
        "Nuestro algoritmo de fuerza bruta llama a una función que tiene 3 bucles for anidados. Esa función tiene orden 0(n^3).\n",
        "\n",
        "Teniendo en cuenta que nuestro algoritmo tiene un bucle while, en el peor de los casos donde la mejor solución sea la última, el orden será factorial.\n",
        "\n",
        "Por tanto, mejor caso O(n^3), peor caso O(n!)."
      ]
    },
    {
      "metadata": {
        "id": "rvZWwL-ckRST",
        "colab_type": "code",
        "colab": {}
      },
      "cell_type": "code",
      "source": [
        ""
      ],
      "execution_count": 0,
      "outputs": []
    },
    {
      "metadata": {
        "id": "txbrmLmskReM",
        "colab_type": "text"
      },
      "cell_type": "markdown",
      "source": [
        "(*)Diseña un algoritmo que mejore la complejidad del algortimo por fuerza bruta. Argumenta porque crees que mejora el algoritmo por fuerza bruta"
      ]
    },
    {
      "metadata": {
        "id": "hLrVwt5QkZPD",
        "colab_type": "text"
      },
      "cell_type": "markdown",
      "source": [
        "Respuesta:\n",
        "\n",
        "Voy a implementar un algoritmo genético\n",
        "\n",
        "### Creación población inicial"
      ]
    },
    {
      "metadata": {
        "id": "m1eyM21Vkabg",
        "colab_type": "code",
        "colab": {
          "base_uri": "https://localhost:8080/",
          "height": 306
        },
        "outputId": "b94147de-27c2-4676-9718-3e9a63b1c04b"
      },
      "cell_type": "code",
      "source": [
        "# Creo un tratamiento haciendo múltiples permutaciones del grupo inicial\n",
        "def crear_tratamiento(grupos_iniciales):\n",
        "  # Me sirve para crear una nueva variable por valor\n",
        "  tratamiento = copy.deepcopy(grupos_iniciales)\n",
        "\n",
        "  # Por cada grupo excepto el último porque ya habrá sido utilizado\n",
        "  for i in range(len(grupos_iniciales)-1):\n",
        "    # Por cada ternero del grupo\n",
        "    for j in range(len(grupos_iniciales[i])):\n",
        "      # Por cada ternero del siguiente grupo\n",
        "      for k in range(len(grupos_iniciales[i+1])):\n",
        "        # Intercambio terneros distintos cada vez\n",
        "        tmp = tratamiento[i+1][k]\n",
        "        tratamiento[i+1][k] = tratamiento[i][j]\n",
        "        tratamiento[i][j] = tmp\n",
        "        \n",
        "  return tratamiento\n",
        "  \n",
        "def crear_poblacion_inicial(num_poblaciones, num_grupos, tamanyo_grupos):\n",
        "  # Creo una matriz tridimensional vacia para tener todas las poblaciones\n",
        "  poblacion = np.zeros(shape=(num_poblaciones, num_grupos, tamanyo_grupos))\n",
        "  \n",
        "  # Añado la primera población creada aleatoriamente\n",
        "  poblacion[0] = crear_tratamiento(matriz_grupos_hembras[0])\n",
        "  \n",
        "  # El resto de poblaciones las genero en base a la población anterior\n",
        "  for i in range(1, num_poblaciones):\n",
        "    poblacion[i] = crear_tratamiento(poblacion[i-1])\n",
        "  \n",
        "  return poblacion\n",
        "\n",
        "tamanyo_grupos = len(terneros_machos.index)//grupos\n",
        "print(\"Población inicial generada:\\n\")\n",
        "poblacion = crear_poblacion_inicial(4, 3, tamanyo_grupos)\n",
        "print(poblacion)"
      ],
      "execution_count": 128,
      "outputs": [
        {
          "output_type": "stream",
          "text": [
            "Población inicial generada:\n",
            "\n",
            "[[[35.86294281 35.7773687  35.71552288 35.69453293]\n",
            "  [35.97306195 35.95690236 35.93814829 35.88926591]\n",
            "  [35.15138435 35.29687589 35.30369393 35.37521029]]\n",
            "\n",
            " [[35.88926591 35.93814829 35.95690236 35.97306195]\n",
            "  [35.37521029 35.30369393 35.29687589 35.15138435]\n",
            "  [35.86294281 35.7773687  35.71552288 35.69453293]]\n",
            "\n",
            " [[35.15138435 35.29687589 35.30369393 35.37521029]\n",
            "  [35.69453293 35.71552288 35.7773687  35.86294281]\n",
            "  [35.88926591 35.93814829 35.95690236 35.97306195]]\n",
            "\n",
            " [[35.86294281 35.7773687  35.71552288 35.69453293]\n",
            "  [35.97306195 35.95690236 35.93814829 35.88926591]\n",
            "  [35.15138435 35.29687589 35.30369393 35.37521029]]]\n"
          ],
          "name": "stdout"
        }
      ]
    },
    {
      "metadata": {
        "id": "oB-MrlrPmYfo",
        "colab_type": "text"
      },
      "cell_type": "markdown",
      "source": [
        "### Selección de poblaciones"
      ]
    },
    {
      "metadata": {
        "id": "KhUIxAmymcm5",
        "colab_type": "code",
        "colab": {
          "base_uri": "https://localhost:8080/",
          "height": 34
        },
        "outputId": "937290d3-f852-4fc7-8c08-67f9aa34aad8"
      },
      "cell_type": "code",
      "source": [
        "def normalized(a, axis=-1, order=2):\n",
        "    l2 = np.atleast_1d(np.linalg.norm(a, order, axis))\n",
        "    l2[l2==0] = 1\n",
        "    return a / np.expand_dims(l2, axis)\n",
        "  \n",
        "def calcular_errores(poblacion):\n",
        "  errores = []\n",
        "  # Calculamos los errores de la población\n",
        "  for i in range(len(poblacion)):\n",
        "    (desv, med) = funcion_objetivo(poblacion[i])\n",
        "    errores.append(desv + med)\n",
        "  \n",
        "  return normalized(errores)\n",
        "\n",
        "# Devolvemos qué población debemos eliminar\n",
        "def seleccionar(poblacion):\n",
        "\n",
        "  errores = calcular_errores(poblacion)\n",
        "  # Normalizamos los errores\n",
        "  # Buscamos el índice del elemento que hay que eliminar\n",
        "  indice_eliminar =  np.argmax(errores)\n",
        "  \n",
        "  return indice_eliminar\n",
        "  \n",
        "seleccionar(poblacion)"
      ],
      "execution_count": 138,
      "outputs": [
        {
          "output_type": "execute_result",
          "data": {
            "text/plain": [
              "1"
            ]
          },
          "metadata": {
            "tags": []
          },
          "execution_count": 138
        }
      ]
    },
    {
      "metadata": {
        "id": "cQJRWg6Hqinp",
        "colab_type": "text"
      },
      "cell_type": "markdown",
      "source": [
        "### Cruzar"
      ]
    },
    {
      "metadata": {
        "id": "o622eBH-qkwC",
        "colab_type": "code",
        "colab": {
          "base_uri": "https://localhost:8080/",
          "height": 51
        },
        "outputId": "bb4fff1c-406c-44da-ab1e-f90e32ff69e9"
      },
      "cell_type": "code",
      "source": [
        "def cruzar(poblacion):\n",
        "  indice_eliminar = seleccionar(poblacion)\n",
        "\n",
        "  # Elimino la población con más errores\n",
        "  errores = calcular_errores(poblacion)\n",
        "  errores = np.delete(errores, indice_eliminar)\n",
        "  # Calculo los errores para después asignar probabilidades\n",
        "  for i in range(len(errores)):\n",
        "    errores[i] = 1 - errores[i]\n",
        "  \n",
        "  # Queremos asignar porcentajes de probabilidad para cruzar\n",
        "  probabilidades = []\n",
        "  for i in range(len(errores)):\n",
        "    probabilidades.append(errores[i]/np.sum(errores))\n",
        "    \n",
        "  # Necesito los indices para seleccionar individuos a cruzarse\n",
        "  indices = [i for i in range(3)]\n",
        "  eleccion_a = np.random.choice(indices, p=probabilidades)\n",
        "  eleccion_b = np.random.choice(indices, p=probabilidades)\n",
        "  # No queremos duplicados\n",
        "  while (eleccion_a == eleccion_b):\n",
        "    eleccion_b = np.random.choice(indices, p=probabilidades)\n",
        "  # Ahora cruzamos\n",
        "  \n",
        "cruzar(poblacion)"
      ],
      "execution_count": 175,
      "outputs": [
        {
          "output_type": "stream",
          "text": [
            "2\n",
            "1\n"
          ],
          "name": "stdout"
        }
      ]
    },
    {
      "metadata": {
        "id": "eGDB4K6uk1iN",
        "colab_type": "text"
      },
      "cell_type": "markdown",
      "source": [
        "(*)Calcula la complejidad del algoritmo "
      ]
    },
    {
      "metadata": {
        "id": "NhpTh_BPk1ms",
        "colab_type": "text"
      },
      "cell_type": "markdown",
      "source": [
        "Respuesta"
      ]
    },
    {
      "metadata": {
        "id": "nREzhkStlCq8",
        "colab_type": "code",
        "colab": {}
      },
      "cell_type": "code",
      "source": [
        ""
      ],
      "execution_count": 0,
      "outputs": []
    },
    {
      "metadata": {
        "id": "3M6QjTsSkmYe",
        "colab_type": "text"
      },
      "cell_type": "markdown",
      "source": [
        "**Según el problema (y tenga sentido), diseña un juego de datos de entrada aleatorios**"
      ]
    },
    {
      "metadata": {
        "id": "Jc3_OlyNkvjZ",
        "colab_type": "text"
      },
      "cell_type": "markdown",
      "source": [
        "Respuesta:\n",
        "\n",
        "En la sección \"Creación de la estructura de datos\" podrá encontrar una generación aleatoria de terneros machos y hembra."
      ]
    },
    {
      "metadata": {
        "id": "zy5ZROmjlGo1",
        "colab_type": "text"
      },
      "cell_type": "markdown",
      "source": [
        "Aplica el algoritmo al juego de datos generado"
      ]
    },
    {
      "metadata": {
        "id": "_Cmj-PVylMsa",
        "colab_type": "text"
      },
      "cell_type": "markdown",
      "source": [
        "Respuesta"
      ]
    },
    {
      "metadata": {
        "id": "Jkx8GeiYlUz1",
        "colab_type": "code",
        "colab": {}
      },
      "cell_type": "code",
      "source": [
        ""
      ],
      "execution_count": 0,
      "outputs": []
    },
    {
      "metadata": {
        "colab_type": "text",
        "id": "eTFWUJQrtGcv"
      },
      "cell_type": "markdown",
      "source": [
        "Enumera las referencias que has utilizado(si ha sido necesario) para llevar a cabo el trabajo"
      ]
    },
    {
      "metadata": {
        "id": "YKQ_mRBttWsP",
        "colab_type": "text"
      },
      "cell_type": "markdown",
      "source": [
        "Respuesta"
      ]
    },
    {
      "metadata": {
        "id": "kAkDPUyRtYyH",
        "colab_type": "text"
      },
      "cell_type": "markdown",
      "source": [
        "Describe brevemente las lineas de como crees que es posible avanzar en el estudio del problema. Ten en cuenta incluso posibles variaciones del problema y/o variaciones al alza del tamaño"
      ]
    },
    {
      "metadata": {
        "id": "IE0uZmo-tZu-",
        "colab_type": "text"
      },
      "cell_type": "markdown",
      "source": [
        "Respuesta"
      ]
    }
  ]
}