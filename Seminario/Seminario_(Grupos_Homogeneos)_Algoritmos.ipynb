{
  "nbformat": 4,
  "nbformat_minor": 0,
  "metadata": {
    "colab": {
      "name": "Seminario (Grupos Homogeneos) - Algoritmos.ipynb",
      "version": "0.3.2",
      "provenance": [],
      "collapsed_sections": [],
      "include_colab_link": true
    },
    "kernelspec": {
      "name": "python3",
      "display_name": "Python 3"
    }
  },
  "cells": [
    {
      "cell_type": "markdown",
      "metadata": {
        "id": "view-in-github",
        "colab_type": "text"
      },
      "source": [
        "<a href=\"https://colab.research.google.com/github/paella55/03MAIR-Algoritmos-de-optimizacion/blob/master/Seminario/Seminario_(Grupos_Homogeneos)_Algoritmos.ipynb\" target=\"_parent\"><img src=\"https://colab.research.google.com/assets/colab-badge.svg\" alt=\"Open In Colab\"/></a>"
      ]
    },
    {
      "metadata": {
        "id": "hVbXYX-RfPWh",
        "colab_type": "text"
      },
      "cell_type": "markdown",
      "source": [
        "# Algoritmos de optimización - Seminario<br>\n",
        "Nombre y Apellidos:  Jaime Díaz González <br>\n",
        "Url: https://github.com/paella55/03MAIR-Algoritmos-de-optimizacion/blob/master/Seminario/Seminario_(Grupos_Homogeneos)_Algoritmos.ipynb<br>\n",
        "Problema:\n",
        "> 1. Elección de grupos de población homogéneos \n",
        "\n",
        "Descripción del problema: \n",
        "Se solicita diseñar un algoritmo para conseguir una agrupación de terneros en grupos de tratamientos que cumplan de la\n",
        "mejor manera posible las especificaciones de la productora.\n",
        "\n",
        "(*) La respuesta es obligatoria\n",
        "\n",
        "\n",
        "\n",
        "\n",
        "\n",
        "                                        "
      ]
    },
    {
      "metadata": {
        "id": "3_-exlrTgLd-",
        "colab_type": "text"
      },
      "cell_type": "markdown",
      "source": [
        " (*)¿Cuantas posibilidades hay sin tener en cuenta las restricciones? ****<br>\n",
        "\n",
        "\n",
        "\n",
        "**¿Cuantas posibilidades hay teniendo en cuenta todas las restricciones.**\n",
        "\n",
        "\n"
      ]
    },
    {
      "metadata": {
        "id": "WfCUqJyKhPcw",
        "colab_type": "text"
      },
      "cell_type": "markdown",
      "source": [
        "Respuesta:<br>\n",
        "Para calcular el numero posible de soluciones es necesario algunas algo de combinatoria y saber contar.<br>\n",
        "Suponemos que el número de ciudades es N y que partimos de una ciudad dada.\n",
        "Podemos suponer un procedimiento que vaya construyendo todas las soluciones. Para el primer viaje disponemos de N-1 ciudades ya que debemos eliminar la ciudad de partida como posible candidata. Para la segunda ciudad a visitar disponemos de N-2 posiblidades. Por tanto ya tenemos (N-1)x(N-2) para visitar 2 ciudades. <br>\n",
        "Si seguimos el razonamiento deducimos que hay (N-1)! (factoria de N-1) posibilidades.<br>\n",
        "Puesto que el camino es circular(comienza y termina en la misma ciudad) debemos tener en cuenta que cada ruta tiene una ruta inversa semejante. La primera se convierte en la última, la segunda en la penultima y así sucesivamente. Por tanto sin no queremos tener en cuenta esta repeticion en total tenemos (N-1)!/2"
      ]
    },
    {
      "metadata": {
        "id": "iq6Fe32MgpDX",
        "colab_type": "code",
        "colab": {}
      },
      "cell_type": "code",
      "source": [
        ""
      ],
      "execution_count": 0,
      "outputs": []
    },
    {
      "metadata": {
        "id": "dzynfVJahHoY",
        "colab_type": "text"
      },
      "cell_type": "markdown",
      "source": [
        "Modelo para el espacio de soluciones<br>\n",
        "(*) ¿Cual es la estructura de datos que mejor se adapta al problema? Argumentalo.(Es posible que hayas elegido una al principio y veas la necesidad de cambiar, arguentalo)\n"
      ]
    },
    {
      "metadata": {
        "id": "xFIJrOwKi2Ti",
        "colab_type": "text"
      },
      "cell_type": "markdown",
      "source": [
        "Respuesta:\n",
        "\n",
        "Podemos etiquetar las ciudades con un indice único desde 1 a N para cada ciudad.\n",
        "\n",
        "Es posible guardar las posibles soluciones en un vector de dimensión N. La primera coordenada será siempre la ciudad de partida.\n",
        "La segunda coordenada será la segunda ciidad a visitar y así sucesivamente.\n",
        "\n",
        "Si guardamos las ciudades en un diccionario de python podemos recuperar sus nombre a través de sus indices.\n",
        "\n",
        "Debemos guardar las distancias o costes para ir desde cada par de ciudades. Aunque no nos lo han especificado en el problema, podemos suponer que el coste o distancia de ir de la ciudad i a j es el mismo que el de ir de j a i. Por tanto necesitamos una matriz simétrica para guardar estos valores.  De esta manera diremos que DISTANCIA[i][i] es la distancia de ir de i a j. En la diagonal evitamos disponemos 0(ceros)"
      ]
    },
    {
      "metadata": {
        "id": "Xn_ZQqRNzlRy",
        "colab_type": "text"
      },
      "cell_type": "markdown",
      "source": [
        "### Creación de la estructura de datos"
      ]
    },
    {
      "metadata": {
        "id": "38c-7-ejhJmA",
        "colab_type": "code",
        "outputId": "52ab8309-8454-4752-c76c-2efe990af8b5",
        "colab": {
          "base_uri": "https://localhost:8080/",
          "height": 204
        }
      },
      "cell_type": "code",
      "source": [
        "# librería externa para guardar los datos en tablas\n",
        "import pandas as pd\n",
        "from pandas import Series, DataFrame\n",
        "\n",
        "import random\n",
        "# liberia externa para manejo de vectores\n",
        "import numpy as np\n",
        "\n",
        "# Número de terneros\n",
        "N = 80\n",
        "# Número de tratamientos\n",
        "tratamientos = 3\n",
        "# Número de grupos\n",
        "grupos = tratamientos*3\n",
        "\n",
        "# Generamos datos\n",
        "# Siguiendo la desviación estandar y la media del peso\n",
        "pesos_terneros = np.random.uniform(low=35.0, high=39.1, size=(N,))\n",
        "# Ahora hacemos machos y hembras\n",
        "machos_hembras = []\n",
        "for i in range(N):\n",
        "  machos_hembras.append(random.choice('MH'))\n",
        "\n",
        "def crear_tabla():\n",
        "  # Me creo las columnas y le añado los valores\n",
        "  terneros_dict = {\"Peso\": pesos_terneros, \"Sexo\": machos_hembras}\n",
        "  # Creo la tabla que almacena los valores\n",
        "  terneros_tabla = DataFrame(terneros_dict)\n",
        "  return terneros_tabla\n",
        "\n",
        "terneros_tabla = crear_tabla()\n",
        "# Muestro 5 de entre todos\n",
        "terneros_tabla.sample(5)"
      ],
      "execution_count": 228,
      "outputs": [
        {
          "output_type": "execute_result",
          "data": {
            "text/html": [
              "<div>\n",
              "<style scoped>\n",
              "    .dataframe tbody tr th:only-of-type {\n",
              "        vertical-align: middle;\n",
              "    }\n",
              "\n",
              "    .dataframe tbody tr th {\n",
              "        vertical-align: top;\n",
              "    }\n",
              "\n",
              "    .dataframe thead th {\n",
              "        text-align: right;\n",
              "    }\n",
              "</style>\n",
              "<table border=\"1\" class=\"dataframe\">\n",
              "  <thead>\n",
              "    <tr style=\"text-align: right;\">\n",
              "      <th></th>\n",
              "      <th>Peso</th>\n",
              "      <th>Sexo</th>\n",
              "    </tr>\n",
              "  </thead>\n",
              "  <tbody>\n",
              "    <tr>\n",
              "      <th>52</th>\n",
              "      <td>38.893676</td>\n",
              "      <td>H</td>\n",
              "    </tr>\n",
              "    <tr>\n",
              "      <th>32</th>\n",
              "      <td>36.058602</td>\n",
              "      <td>M</td>\n",
              "    </tr>\n",
              "    <tr>\n",
              "      <th>4</th>\n",
              "      <td>36.678406</td>\n",
              "      <td>H</td>\n",
              "    </tr>\n",
              "    <tr>\n",
              "      <th>14</th>\n",
              "      <td>35.234364</td>\n",
              "      <td>H</td>\n",
              "    </tr>\n",
              "    <tr>\n",
              "      <th>10</th>\n",
              "      <td>37.586123</td>\n",
              "      <td>M</td>\n",
              "    </tr>\n",
              "  </tbody>\n",
              "</table>\n",
              "</div>"
            ],
            "text/plain": [
              "         Peso Sexo\n",
              "52  38.893676    H\n",
              "32  36.058602    M\n",
              "4   36.678406    H\n",
              "14  35.234364    H\n",
              "10  37.586123    M"
            ]
          },
          "metadata": {
            "tags": []
          },
          "execution_count": 228
        }
      ]
    },
    {
      "metadata": {
        "id": "fmGGhWvOzpoh",
        "colab_type": "text"
      },
      "cell_type": "markdown",
      "source": [
        "### Filtrado de datos"
      ]
    },
    {
      "metadata": {
        "id": "f2-nvlQezzhK",
        "colab_type": "code",
        "colab": {}
      },
      "cell_type": "code",
      "source": [
        "# Ahora vamos a organizar los datos por sexo\n",
        "terneros_machos = terneros_tabla[terneros_tabla['Sexo'] == 'M']\n",
        "terneros_hembras = terneros_tabla[terneros_tabla['Sexo'] == 'H']\n",
        "\n",
        "# Reiniciamos sus indices\n",
        "terneros_machos = terneros_machos.reset_index(drop=True)\n",
        "terneros_hembras = terneros_hembras.reset_index(drop=True)\n",
        "\n",
        "# Ahora voy a ver cuantos terneros tengo que descartar, porque los grupos\n",
        "# tienen que ser iguales en número.\n",
        "machos_sobrantes = len(terneros_machos.index) % grupos\n",
        "hembras_sobrantes = len(terneros_hembras.index) % grupos\n",
        "\n",
        "# Descartamos los mayores y los menores pesos (outliers)\n",
        "def descartar_terneros(df: DataFrame, num_descartar):\n",
        "  \n",
        "  for i in range(num_descartar):\n",
        "    # En la iteración par, mayores\n",
        "    if i % 2 == 0:\n",
        "      indice = df['Peso'].idxmax()\n",
        "      df = df.drop(df.index[indice])\n",
        "      df = df.reset_index(drop=True)\n",
        "    # En la iteración impar, menores\n",
        "    else:\n",
        "      indice = df['Peso'].idxmin()\n",
        "      df = df.drop(df.index[indice])\n",
        "      df = df.reset_index(drop=True)\n",
        "  return df\n",
        "\n",
        "# Descartamos terneros macho y reiniciamos los indices\n",
        "terneros_machos = descartar_terneros(terneros_machos, machos_sobrantes)\n",
        "terneros_machos = terneros_machos.reset_index(drop=True)\n",
        "# Descartamos terneros hembra y reiniciamos los indices\n",
        "terneros_hembras = descartar_terneros(terneros_hembras, hembras_sobrantes)\n",
        "terneros_hembras = terneros_hembras.reset_index(drop=True)"
      ],
      "execution_count": 0,
      "outputs": []
    },
    {
      "metadata": {
        "id": "p_adYqGEBS0h",
        "colab_type": "text"
      },
      "cell_type": "markdown",
      "source": [
        "### Resolución por fuerza bruta"
      ]
    },
    {
      "metadata": {
        "id": "y4p9YKZ6BXLJ",
        "colab_type": "code",
        "colab": {
          "base_uri": "https://localhost:8080/",
          "height": 1251
        },
        "outputId": "e5127e7c-785d-4b5a-f556-72a46de0f52d"
      },
      "cell_type": "code",
      "source": [
        "# Intentamos encontrar los mínimos, para tener grupos iniciales mejores\n",
        "def encontrar_minimos(df: DataFrame, num_minimos):\n",
        "  # Creamos un nuevo DataFrame vacio\n",
        "  df_minimos = pd.DataFrame()\n",
        "  for i in range(num_minimos):\n",
        "    # Buscamos el mínimo y se lo añadimos\n",
        "    indice = df['Peso'].idxmin()\n",
        "    df_minimos = df_minimos.append(df.iloc[indice])\n",
        "    # Lo borramos para que no vuelva a aparecer y refrescamos los indices\n",
        "    df = df.drop(df.index[indice])\n",
        "    df = df.reset_index(drop=True)\n",
        "  \n",
        "  df_minimos = df_minimos.reset_index(drop=True)\n",
        "  return df_minimos, df\n",
        "\n",
        "tamanyo_grupos = len(terneros_machos.index)//tratamientos\n",
        "\n",
        "# Creo una matriz tridimensional vacia para tener todos los tratamientos, todos los\n",
        "# grupos y todos los individuos\n",
        "matriz_grupos = np.zeros(shape=(tratamientos, grupos, tamanyo_grupos))\n",
        "\n",
        "for t in range(tratamientos):\n",
        "  for g in range(3):\n",
        "    # Busco los mínimos y los añado al tratamiento y grupo\n",
        "    (terneros_machos_min, terneros_machos) = encontrar_minimos(terneros_machos, tamanyo_grupos)\n",
        "\n",
        "    print(terneros_machos)\n",
        "\n",
        "    individuos = matriz_grupos[t][g]\n",
        "    # Necesito los indices para poner los valores de los individuos\n",
        "    indices = [i for i in range(individuos.size)]\n",
        "    np.put(individuos, indices, terneros_machos_min['Peso'])\n",
        "    # Finalmente pongo los individuos en la matriz\n",
        "    matriz_grupos[t][g] = individuos"
      ],
      "execution_count": 230,
      "outputs": [
        {
          "output_type": "stream",
          "text": [
            "         Peso Sexo\n",
            "0   36.718890    M\n",
            "1   37.488814    M\n",
            "2   37.765306    M\n",
            "3   37.586123    M\n",
            "4   37.330515    M\n",
            "5   36.796091    M\n",
            "6   37.420871    M\n",
            "7   38.210421    M\n",
            "8   36.917674    M\n",
            "9   37.969117    M\n",
            "10  38.320095    M\n",
            "11  37.569465    M\n",
            "12  37.669985    M\n",
            "13  37.647477    M\n",
            "14  38.082400    M\n",
            "15  38.149074    M\n",
            "16  38.308271    M\n",
            "17  37.904071    M\n",
            "        Peso Sexo\n",
            "0  37.765306    M\n",
            "1  38.210421    M\n",
            "2  37.969117    M\n",
            "3  38.320095    M\n",
            "4  37.669985    M\n",
            "5  38.082400    M\n",
            "6  38.149074    M\n",
            "7  38.308271    M\n",
            "8  37.904071    M\n",
            "Empty DataFrame\n",
            "Columns: [Peso, Sexo]\n",
            "Index: []\n"
          ],
          "name": "stdout"
        },
        {
          "output_type": "error",
          "ename": "ValueError",
          "evalue": "ignored",
          "traceback": [
            "\u001b[0;31m---------------------------------------------------------------------------\u001b[0m",
            "\u001b[0;31mValueError\u001b[0m                                Traceback (most recent call last)",
            "\u001b[0;32m<ipython-input-230-d72e0e47ed62>\u001b[0m in \u001b[0;36m<module>\u001b[0;34m()\u001b[0m\n\u001b[1;32m     22\u001b[0m   \u001b[0;32mfor\u001b[0m \u001b[0mg\u001b[0m \u001b[0;32min\u001b[0m \u001b[0mrange\u001b[0m\u001b[0;34m(\u001b[0m\u001b[0;36m3\u001b[0m\u001b[0;34m)\u001b[0m\u001b[0;34m:\u001b[0m\u001b[0;34m\u001b[0m\u001b[0;34m\u001b[0m\u001b[0m\n\u001b[1;32m     23\u001b[0m     \u001b[0;31m# Busco los mínimos y los añado al tratamiento y grupo\u001b[0m\u001b[0;34m\u001b[0m\u001b[0;34m\u001b[0m\u001b[0;34m\u001b[0m\u001b[0m\n\u001b[0;32m---> 24\u001b[0;31m     \u001b[0;34m(\u001b[0m\u001b[0mterneros_machos_min\u001b[0m\u001b[0;34m,\u001b[0m \u001b[0mterneros_machos\u001b[0m\u001b[0;34m)\u001b[0m \u001b[0;34m=\u001b[0m \u001b[0mencontrar_minimos\u001b[0m\u001b[0;34m(\u001b[0m\u001b[0mterneros_machos\u001b[0m\u001b[0;34m,\u001b[0m \u001b[0mtamanyo_grupos\u001b[0m\u001b[0;34m)\u001b[0m\u001b[0;34m\u001b[0m\u001b[0;34m\u001b[0m\u001b[0m\n\u001b[0m\u001b[1;32m     25\u001b[0m \u001b[0;34m\u001b[0m\u001b[0m\n\u001b[1;32m     26\u001b[0m     \u001b[0mprint\u001b[0m\u001b[0;34m(\u001b[0m\u001b[0mterneros_machos\u001b[0m\u001b[0;34m)\u001b[0m\u001b[0;34m\u001b[0m\u001b[0;34m\u001b[0m\u001b[0m\n",
            "\u001b[0;32m<ipython-input-230-d72e0e47ed62>\u001b[0m in \u001b[0;36mencontrar_minimos\u001b[0;34m(df, num_minimos)\u001b[0m\n\u001b[1;32m      4\u001b[0m   \u001b[0;32mfor\u001b[0m \u001b[0mi\u001b[0m \u001b[0;32min\u001b[0m \u001b[0mrange\u001b[0m\u001b[0;34m(\u001b[0m\u001b[0mnum_minimos\u001b[0m\u001b[0;34m)\u001b[0m\u001b[0;34m:\u001b[0m\u001b[0;34m\u001b[0m\u001b[0;34m\u001b[0m\u001b[0m\n\u001b[1;32m      5\u001b[0m     \u001b[0;31m# Buscamos el mínimo y se lo añadimos\u001b[0m\u001b[0;34m\u001b[0m\u001b[0;34m\u001b[0m\u001b[0;34m\u001b[0m\u001b[0m\n\u001b[0;32m----> 6\u001b[0;31m     \u001b[0mindice\u001b[0m \u001b[0;34m=\u001b[0m \u001b[0mdf\u001b[0m\u001b[0;34m[\u001b[0m\u001b[0;34m'Peso'\u001b[0m\u001b[0;34m]\u001b[0m\u001b[0;34m.\u001b[0m\u001b[0midxmin\u001b[0m\u001b[0;34m(\u001b[0m\u001b[0;34m)\u001b[0m\u001b[0;34m\u001b[0m\u001b[0;34m\u001b[0m\u001b[0m\n\u001b[0m\u001b[1;32m      7\u001b[0m     \u001b[0mdf_minimos\u001b[0m \u001b[0;34m=\u001b[0m \u001b[0mdf_minimos\u001b[0m\u001b[0;34m.\u001b[0m\u001b[0mappend\u001b[0m\u001b[0;34m(\u001b[0m\u001b[0mdf\u001b[0m\u001b[0;34m.\u001b[0m\u001b[0miloc\u001b[0m\u001b[0;34m[\u001b[0m\u001b[0mindice\u001b[0m\u001b[0;34m]\u001b[0m\u001b[0;34m)\u001b[0m\u001b[0;34m\u001b[0m\u001b[0;34m\u001b[0m\u001b[0m\n\u001b[1;32m      8\u001b[0m     \u001b[0;31m# Lo borramos para que no vuelva a aparecer y refrescamos los indices\u001b[0m\u001b[0;34m\u001b[0m\u001b[0;34m\u001b[0m\u001b[0;34m\u001b[0m\u001b[0m\n",
            "\u001b[0;32m/usr/local/lib/python3.6/dist-packages/pandas/core/series.py\u001b[0m in \u001b[0;36midxmin\u001b[0;34m(self, axis, skipna, *args, **kwargs)\u001b[0m\n\u001b[1;32m   1331\u001b[0m         \"\"\"\n\u001b[1;32m   1332\u001b[0m         \u001b[0mskipna\u001b[0m \u001b[0;34m=\u001b[0m \u001b[0mnv\u001b[0m\u001b[0;34m.\u001b[0m\u001b[0mvalidate_argmin_with_skipna\u001b[0m\u001b[0;34m(\u001b[0m\u001b[0mskipna\u001b[0m\u001b[0;34m,\u001b[0m \u001b[0margs\u001b[0m\u001b[0;34m,\u001b[0m \u001b[0mkwargs\u001b[0m\u001b[0;34m)\u001b[0m\u001b[0;34m\u001b[0m\u001b[0;34m\u001b[0m\u001b[0m\n\u001b[0;32m-> 1333\u001b[0;31m         \u001b[0mi\u001b[0m \u001b[0;34m=\u001b[0m \u001b[0mnanops\u001b[0m\u001b[0;34m.\u001b[0m\u001b[0mnanargmin\u001b[0m\u001b[0;34m(\u001b[0m\u001b[0m_values_from_object\u001b[0m\u001b[0;34m(\u001b[0m\u001b[0mself\u001b[0m\u001b[0;34m)\u001b[0m\u001b[0;34m,\u001b[0m \u001b[0mskipna\u001b[0m\u001b[0;34m=\u001b[0m\u001b[0mskipna\u001b[0m\u001b[0;34m)\u001b[0m\u001b[0;34m\u001b[0m\u001b[0;34m\u001b[0m\u001b[0m\n\u001b[0m\u001b[1;32m   1334\u001b[0m         \u001b[0;32mif\u001b[0m \u001b[0mi\u001b[0m \u001b[0;34m==\u001b[0m \u001b[0;34m-\u001b[0m\u001b[0;36m1\u001b[0m\u001b[0;34m:\u001b[0m\u001b[0;34m\u001b[0m\u001b[0;34m\u001b[0m\u001b[0m\n\u001b[1;32m   1335\u001b[0m             \u001b[0;32mreturn\u001b[0m \u001b[0mnp\u001b[0m\u001b[0;34m.\u001b[0m\u001b[0mnan\u001b[0m\u001b[0;34m\u001b[0m\u001b[0;34m\u001b[0m\u001b[0m\n",
            "\u001b[0;32m/usr/local/lib/python3.6/dist-packages/pandas/core/nanops.py\u001b[0m in \u001b[0;36m_f\u001b[0;34m(*args, **kwargs)\u001b[0m\n\u001b[1;32m     75\u001b[0m             \u001b[0;32mtry\u001b[0m\u001b[0;34m:\u001b[0m\u001b[0;34m\u001b[0m\u001b[0;34m\u001b[0m\u001b[0m\n\u001b[1;32m     76\u001b[0m                 \u001b[0;32mwith\u001b[0m \u001b[0mnp\u001b[0m\u001b[0;34m.\u001b[0m\u001b[0merrstate\u001b[0m\u001b[0;34m(\u001b[0m\u001b[0minvalid\u001b[0m\u001b[0;34m=\u001b[0m\u001b[0;34m'ignore'\u001b[0m\u001b[0;34m)\u001b[0m\u001b[0;34m:\u001b[0m\u001b[0;34m\u001b[0m\u001b[0;34m\u001b[0m\u001b[0m\n\u001b[0;32m---> 77\u001b[0;31m                     \u001b[0;32mreturn\u001b[0m \u001b[0mf\u001b[0m\u001b[0;34m(\u001b[0m\u001b[0;34m*\u001b[0m\u001b[0margs\u001b[0m\u001b[0;34m,\u001b[0m \u001b[0;34m**\u001b[0m\u001b[0mkwargs\u001b[0m\u001b[0;34m)\u001b[0m\u001b[0;34m\u001b[0m\u001b[0;34m\u001b[0m\u001b[0m\n\u001b[0m\u001b[1;32m     78\u001b[0m             \u001b[0;32mexcept\u001b[0m \u001b[0mValueError\u001b[0m \u001b[0;32mas\u001b[0m \u001b[0me\u001b[0m\u001b[0;34m:\u001b[0m\u001b[0;34m\u001b[0m\u001b[0;34m\u001b[0m\u001b[0m\n\u001b[1;32m     79\u001b[0m                 \u001b[0;31m# we want to transform an object array\u001b[0m\u001b[0;34m\u001b[0m\u001b[0;34m\u001b[0m\u001b[0;34m\u001b[0m\u001b[0m\n",
            "\u001b[0;32m/usr/local/lib/python3.6/dist-packages/pandas/core/nanops.py\u001b[0m in \u001b[0;36mnanargmin\u001b[0;34m(values, axis, skipna)\u001b[0m\n\u001b[1;32m    532\u001b[0m     \"\"\"\n\u001b[1;32m    533\u001b[0m     \u001b[0mvalues\u001b[0m\u001b[0;34m,\u001b[0m \u001b[0mmask\u001b[0m\u001b[0;34m,\u001b[0m \u001b[0mdtype\u001b[0m\u001b[0;34m,\u001b[0m \u001b[0m_\u001b[0m \u001b[0;34m=\u001b[0m \u001b[0m_get_values\u001b[0m\u001b[0;34m(\u001b[0m\u001b[0mvalues\u001b[0m\u001b[0;34m,\u001b[0m \u001b[0mskipna\u001b[0m\u001b[0;34m,\u001b[0m \u001b[0mfill_value_typ\u001b[0m\u001b[0;34m=\u001b[0m\u001b[0;34m'+inf'\u001b[0m\u001b[0;34m)\u001b[0m\u001b[0;34m\u001b[0m\u001b[0;34m\u001b[0m\u001b[0m\n\u001b[0;32m--> 534\u001b[0;31m     \u001b[0mresult\u001b[0m \u001b[0;34m=\u001b[0m \u001b[0mvalues\u001b[0m\u001b[0;34m.\u001b[0m\u001b[0margmin\u001b[0m\u001b[0;34m(\u001b[0m\u001b[0maxis\u001b[0m\u001b[0;34m)\u001b[0m\u001b[0;34m\u001b[0m\u001b[0;34m\u001b[0m\u001b[0m\n\u001b[0m\u001b[1;32m    535\u001b[0m     \u001b[0mresult\u001b[0m \u001b[0;34m=\u001b[0m \u001b[0m_maybe_arg_null_out\u001b[0m\u001b[0;34m(\u001b[0m\u001b[0mresult\u001b[0m\u001b[0;34m,\u001b[0m \u001b[0maxis\u001b[0m\u001b[0;34m,\u001b[0m \u001b[0mmask\u001b[0m\u001b[0;34m,\u001b[0m \u001b[0mskipna\u001b[0m\u001b[0;34m)\u001b[0m\u001b[0;34m\u001b[0m\u001b[0;34m\u001b[0m\u001b[0m\n\u001b[1;32m    536\u001b[0m     \u001b[0;32mreturn\u001b[0m \u001b[0mresult\u001b[0m\u001b[0;34m\u001b[0m\u001b[0;34m\u001b[0m\u001b[0m\n",
            "\u001b[0;31mValueError\u001b[0m: attempt to get argmin of an empty sequence"
          ]
        }
      ]
    },
    {
      "metadata": {
        "id": "7Z9U2W7bi-XS",
        "colab_type": "text"
      },
      "cell_type": "markdown",
      "source": [
        "Según el modelo para el espacio de soluciones<br>\n",
        "(*)¿Cual es la función objetivo?\n",
        "\n",
        "(*)¿Es un problema de maximización o minimización?"
      ]
    },
    {
      "metadata": {
        "id": "hBalWLM7j1_d",
        "colab_type": "text"
      },
      "cell_type": "markdown",
      "source": [
        "Respuesta:<br>\n",
        "Dada una solución, por ejemplo posible_ruta=(1,2,3,4,5)<br>\n",
        "Podemos diseñar una función que recorra la ruta y devuelva la suma de las distancias para la matriz de costes dada. Debemos tener en cuenta tambien el coste de ir desde la ultima ciudad a la primera para cerrar el circulo.<br>\n",
        "\n",
        "Este es un problema de minimización\n"
      ]
    },
    {
      "metadata": {
        "id": "pDA-rg3Gj5Lz",
        "colab_type": "code",
        "colab": {}
      },
      "cell_type": "code",
      "source": [
        "def calcular_distancia(ruta, COSTES):\n",
        "  acumulado = 0                                #Valor acumulado de la ruta parcial\n",
        "  for i in range(len(ruta)-1):                 #Para recorrer todas las ciudades del venctor\n",
        "    acumulado += COSTES[ruta[i]][ruta[i+1]]    #Acumula\n",
        "  return acumulado + COSTES[ruta[-1]][ruta[0]]  #Debemos tener en cuenta tambien el coste de ir desde la ultima ciudad a la primera para cerrar el circulo\n",
        "    \n",
        "print(posible_ruta)\n",
        "calcular_distancia(posible_ruta, COSTES)"
      ],
      "execution_count": 0,
      "outputs": []
    },
    {
      "metadata": {
        "id": "rlnTYgY1j6I2",
        "colab_type": "text"
      },
      "cell_type": "markdown",
      "source": [
        "Diseña un algoritmo para resolver el problema por fuerza bruta"
      ]
    },
    {
      "metadata": {
        "id": "70rDgxYXkC8r",
        "colab_type": "text"
      },
      "cell_type": "markdown",
      "source": [
        ""
      ]
    },
    {
      "metadata": {
        "id": "CJb5sQ0qkENy",
        "colab_type": "code",
        "colab": {}
      },
      "cell_type": "code",
      "source": [
        ""
      ],
      "execution_count": 0,
      "outputs": []
    },
    {
      "metadata": {
        "id": "tgrnsC2nkFa8",
        "colab_type": "text"
      },
      "cell_type": "markdown",
      "source": [
        "Calcula la complejidad del algoritmo por fuerza bruta"
      ]
    },
    {
      "metadata": {
        "id": "9eUd3xwckP68",
        "colab_type": "text"
      },
      "cell_type": "markdown",
      "source": [
        "Respuesta"
      ]
    },
    {
      "metadata": {
        "id": "rvZWwL-ckRST",
        "colab_type": "code",
        "colab": {}
      },
      "cell_type": "code",
      "source": [
        ""
      ],
      "execution_count": 0,
      "outputs": []
    },
    {
      "metadata": {
        "id": "txbrmLmskReM",
        "colab_type": "text"
      },
      "cell_type": "markdown",
      "source": [
        "(*)Diseña un algoritmo que mejore la complejidad del algortimo por fuerza bruta. Argumenta porque crees que mejora el algoritmo por fuerza bruta"
      ]
    },
    {
      "metadata": {
        "id": "hLrVwt5QkZPD",
        "colab_type": "text"
      },
      "cell_type": "markdown",
      "source": [
        "Respuesta"
      ]
    },
    {
      "metadata": {
        "id": "m1eyM21Vkabg",
        "colab_type": "code",
        "colab": {}
      },
      "cell_type": "code",
      "source": [
        ""
      ],
      "execution_count": 0,
      "outputs": []
    },
    {
      "metadata": {
        "id": "eGDB4K6uk1iN",
        "colab_type": "text"
      },
      "cell_type": "markdown",
      "source": [
        "(*)Calcula la complejidad del algoritmo "
      ]
    },
    {
      "metadata": {
        "id": "NhpTh_BPk1ms",
        "colab_type": "text"
      },
      "cell_type": "markdown",
      "source": [
        "Respuesta"
      ]
    },
    {
      "metadata": {
        "id": "nREzhkStlCq8",
        "colab_type": "code",
        "colab": {}
      },
      "cell_type": "code",
      "source": [
        ""
      ],
      "execution_count": 0,
      "outputs": []
    },
    {
      "metadata": {
        "id": "3M6QjTsSkmYe",
        "colab_type": "text"
      },
      "cell_type": "markdown",
      "source": [
        "Según el problema (y tenga sentido), diseña un juego de datos de entrada aleatorios"
      ]
    },
    {
      "metadata": {
        "id": "Jc3_OlyNkvjZ",
        "colab_type": "text"
      },
      "cell_type": "markdown",
      "source": [
        "Respuesta"
      ]
    },
    {
      "metadata": {
        "id": "sJ-N2etjkyWc",
        "colab_type": "code",
        "colab": {}
      },
      "cell_type": "code",
      "source": [
        "for i in range(5):\n",
        "  COSTES[i][i] = 0\n",
        "  for j in range(i+1, 5):\n",
        "    COSTES[i][j] = random.randrange(200,500)\n",
        "    COSTES[j][i] = COSTES[i][j]"
      ],
      "execution_count": 0,
      "outputs": []
    },
    {
      "metadata": {
        "id": "zy5ZROmjlGo1",
        "colab_type": "text"
      },
      "cell_type": "markdown",
      "source": [
        "Aplica el algoritmo al juego de datos generado"
      ]
    },
    {
      "metadata": {
        "id": "_Cmj-PVylMsa",
        "colab_type": "text"
      },
      "cell_type": "markdown",
      "source": [
        "Respuesta"
      ]
    },
    {
      "metadata": {
        "id": "Jkx8GeiYlUz1",
        "colab_type": "code",
        "colab": {}
      },
      "cell_type": "code",
      "source": [
        ""
      ],
      "execution_count": 0,
      "outputs": []
    },
    {
      "metadata": {
        "colab_type": "text",
        "id": "eTFWUJQrtGcv"
      },
      "cell_type": "markdown",
      "source": [
        "Enumera las referencias que has utilizado(si ha sido necesario) para llevar a cabo el trabajo"
      ]
    },
    {
      "metadata": {
        "id": "YKQ_mRBttWsP",
        "colab_type": "text"
      },
      "cell_type": "markdown",
      "source": [
        "Respuesta"
      ]
    },
    {
      "metadata": {
        "id": "kAkDPUyRtYyH",
        "colab_type": "text"
      },
      "cell_type": "markdown",
      "source": [
        "Describe brevemente las lineas de como crees que es posible avanzar en el estudio del problema. Ten en cuenta incluso posibles variaciones del problema y/o variaciones al alza del tamaño"
      ]
    },
    {
      "metadata": {
        "id": "IE0uZmo-tZu-",
        "colab_type": "text"
      },
      "cell_type": "markdown",
      "source": [
        "Respuesta"
      ]
    }
  ]
}