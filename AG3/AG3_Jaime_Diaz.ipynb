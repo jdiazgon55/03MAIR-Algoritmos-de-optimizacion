{
  "nbformat": 4,
  "nbformat_minor": 0,
  "metadata": {
    "colab": {
      "name": "AG3-Jaime_Diaz.ipynb",
      "version": "0.3.2",
      "provenance": [],
      "include_colab_link": true
    },
    "kernelspec": {
      "name": "python3",
      "display_name": "Python 3"
    }
  },
  "cells": [
    {
      "cell_type": "markdown",
      "metadata": {
        "id": "view-in-github",
        "colab_type": "text"
      },
      "source": [
        "<a href=\"https://colab.research.google.com/github/paella55/03MAIR-Algoritmos-de-optimizacion/blob/master/AG3/AG3_Jaime_Diaz.ipynb\" target=\"_parent\"><img src=\"https://colab.research.google.com/assets/colab-badge.svg\" alt=\"Open In Colab\"/></a>"
      ]
    },
    {
      "metadata": {
        "id": "ozlOpmGtMJIs",
        "colab_type": "text"
      },
      "cell_type": "markdown",
      "source": [
        "## AG3 - Actividad Guiada 3\n",
        "\n",
        "### Jaime Díaz González\n",
        "\n",
        "URL: https://github.com/paella55/03MAIR-Algoritmos-de-optimizacion/blob/master/AG3/AG3_Jaime_Diaz.ipynb"
      ]
    },
    {
      "metadata": {
        "id": "xikng35QTi1C",
        "colab_type": "text"
      },
      "cell_type": "markdown",
      "source": [
        "### Problema agente viajero"
      ]
    },
    {
      "metadata": {
        "id": "wSGgrvXNMsJR",
        "colab_type": "code",
        "outputId": "b910e5a4-38e9-4a39-d1a8-5add2f0d1a80",
        "colab": {
          "base_uri": "https://localhost:8080/",
          "height": 34
        }
      },
      "cell_type": "code",
      "source": [
        "import urllib.request\n",
        "\n",
        "file = \"swiss42.tsp\"\n",
        "\n",
        "urllib.request.urlretrieve(\"http://elib.zib.de/pub/mp-testdata/tsp/tsplib/tsp/swiss42.tsp\", file)"
      ],
      "execution_count": 1,
      "outputs": [
        {
          "output_type": "execute_result",
          "data": {
            "text/plain": [
              "('swiss42.tsp', <http.client.HTTPMessage at 0x7fca6befd828>)"
            ]
          },
          "metadata": {
            "tags": []
          },
          "execution_count": 1
        }
      ]
    },
    {
      "metadata": {
        "id": "TpFcZGS6TiJg",
        "colab_type": "code",
        "outputId": "36e0a639-3c0f-4ec9-e690-0dc269c982f0",
        "colab": {
          "base_uri": "https://localhost:8080/",
          "height": 346
        }
      },
      "cell_type": "code",
      "source": [
        "!pip install tsplib95"
      ],
      "execution_count": 3,
      "outputs": [
        {
          "output_type": "stream",
          "text": [
            "Collecting tsplib95\n",
            "  Downloading https://files.pythonhosted.org/packages/d1/4f/6a1cb104ce9b400eed7690641230fab1515bd475f2dd86d4a3a73f677e3b/tsplib95-0.3.2-py2.py3-none-any.whl\n",
            "Requirement already satisfied: Click>=6.0 in /usr/local/lib/python3.6/dist-packages (from tsplib95) (7.0)\n",
            "Collecting networkx==2.1 (from tsplib95)\n",
            "\u001b[?25l  Downloading https://files.pythonhosted.org/packages/11/42/f951cc6838a4dff6ce57211c4d7f8444809ccbe2134179950301e5c4c83c/networkx-2.1.zip (1.6MB)\n",
            "\u001b[K    100% |████████████████████████████████| 1.6MB 16.9MB/s \n",
            "\u001b[?25hRequirement already satisfied: decorator>=4.1.0 in /usr/local/lib/python3.6/dist-packages (from networkx==2.1->tsplib95) (4.3.2)\n",
            "Building wheels for collected packages: networkx\n",
            "  Building wheel for networkx (setup.py) ... \u001b[?25ldone\n",
            "\u001b[?25h  Stored in directory: /root/.cache/pip/wheels/44/c0/34/6f98693a554301bdb405f8d65d95bbcd3e50180cbfdd98a94e\n",
            "Successfully built networkx\n",
            "\u001b[31mimgaug 0.2.8 has requirement numpy>=1.15.0, but you'll have numpy 1.14.6 which is incompatible.\u001b[0m\n",
            "\u001b[31malbumentations 0.1.12 has requirement imgaug<0.2.7,>=0.2.5, but you'll have imgaug 0.2.8 which is incompatible.\u001b[0m\n",
            "Installing collected packages: networkx, tsplib95\n",
            "  Found existing installation: networkx 2.2\n",
            "    Uninstalling networkx-2.2:\n",
            "      Successfully uninstalled networkx-2.2\n",
            "Successfully installed networkx-2.1 tsplib95-0.3.2\n"
          ],
          "name": "stdout"
        }
      ]
    },
    {
      "metadata": {
        "id": "sye1VMktT0gY",
        "colab_type": "code",
        "colab": {}
      },
      "cell_type": "code",
      "source": [
        "import tsplib95\n",
        "import random\n",
        "from math import e\n",
        "\n",
        "problem = tsplib95.load_problem(file)\n",
        "\n",
        "\n",
        "#Nodos\n",
        "Nodos = list(problem.get_nodes())\n",
        "\n",
        "#Aristas\n",
        "Aristas = list(problem.get_edges()) "
      ],
      "execution_count": 0,
      "outputs": []
    },
    {
      "metadata": {
        "id": "7NfiPtLgUvfg",
        "colab_type": "code",
        "colab": {}
      },
      "cell_type": "code",
      "source": [
        "#Devuelve el factorial de un numero\n",
        "def factorial(n):\n",
        "    if n == 0:\n",
        "        return 1\n",
        "    else:\n",
        "        return n * factorial(n-1)\n",
        "      \n",
        "#Se genera una solucion aleatoria con comienzo en en el nodo 0\n",
        "def crear_solucion(Nodos):\n",
        "  solucion = [0]\n",
        "  for i in range(len(Nodos)-1):\n",
        "    solucion = solucion + [random.choice(list(set(Nodos) - set({0}) - set(solucion)))]\n",
        "  return solucion\n",
        "                 \n",
        "#Devuelve la distancia entre dos nodos\n",
        "def distancia(a,b, problem):\n",
        "  return problem.wfunc(a,b)\n",
        "\n",
        "#Devuelve la distancia total de una trayectoria\n",
        "def distancia_total(solucion, problem):\n",
        "  distancia_total = 0\n",
        "  for i in range(len(solucion)-1):\n",
        "    distancia_total += distancia(solucion[i] ,solucion[i+1] ,  problem)\n",
        "  return distancia_total + distancia(solucion[len(solucion)-1] ,solucion[0], problem)"
      ],
      "execution_count": 0,
      "outputs": []
    },
    {
      "metadata": {
        "id": "3Esd0SoTY3ti",
        "colab_type": "code",
        "outputId": "94d73ffa-7236-4c8b-e8bb-f7569c39aa97",
        "colab": {
          "base_uri": "https://localhost:8080/",
          "height": 791
        }
      },
      "cell_type": "code",
      "source": [
        "def busqueda_aleatoria(problem, N):\n",
        "  \n",
        "  Nodos = list(problem.get_nodes())\n",
        "  \n",
        "  distancia_final = 10000000\n",
        "  solucion_final = -1\n",
        "  \n",
        "  for i in range(N):\n",
        "    solucion_actual = crear_solucion(Nodos)    \n",
        "    distancia_actual = distancia_total(solucion_actual, problem)\n",
        "    \n",
        "    if distancia_actual < distancia_final:\n",
        "      solucion_final = solucion_actual\n",
        "      distancia_final = distancia_actual\n",
        "      \n",
        "  print(\"Nuestra solución es: \" + str(solucion_final))\n",
        "  print(\"Nuestra distancia total es: \" + str(distancia_final))\n",
        "  return solucion_final\n",
        "\n",
        "busqueda_aleatoria(problem, 5000)"
      ],
      "execution_count": 8,
      "outputs": [
        {
          "output_type": "stream",
          "text": [
            "Nuestra solución es: [0, 14, 13, 20, 33, 41, 12, 7, 36, 1, 11, 39, 24, 40, 16, 25, 2, 19, 3, 28, 10, 4, 15, 17, 21, 38, 23, 9, 34, 30, 8, 22, 29, 27, 18, 35, 31, 26, 5, 6, 32, 37]\n",
            "Nuestra distancia total es: 3882\n"
          ],
          "name": "stdout"
        },
        {
          "output_type": "execute_result",
          "data": {
            "text/plain": [
              "[0,\n",
              " 14,\n",
              " 13,\n",
              " 20,\n",
              " 33,\n",
              " 41,\n",
              " 12,\n",
              " 7,\n",
              " 36,\n",
              " 1,\n",
              " 11,\n",
              " 39,\n",
              " 24,\n",
              " 40,\n",
              " 16,\n",
              " 25,\n",
              " 2,\n",
              " 19,\n",
              " 3,\n",
              " 28,\n",
              " 10,\n",
              " 4,\n",
              " 15,\n",
              " 17,\n",
              " 21,\n",
              " 38,\n",
              " 23,\n",
              " 9,\n",
              " 34,\n",
              " 30,\n",
              " 8,\n",
              " 22,\n",
              " 29,\n",
              " 27,\n",
              " 18,\n",
              " 35,\n",
              " 31,\n",
              " 26,\n",
              " 5,\n",
              " 6,\n",
              " 32,\n",
              " 37]"
            ]
          },
          "metadata": {
            "tags": []
          },
          "execution_count": 8
        }
      ]
    },
    {
      "metadata": {
        "id": "yd4Sgi29b7xP",
        "colab_type": "text"
      },
      "cell_type": "markdown",
      "source": [
        "#### Búsqueda local"
      ]
    },
    {
      "metadata": {
        "id": "_8NuFXL8b-QH",
        "colab_type": "code",
        "outputId": "8e6d37d1-26b4-4338-cb23-218fcd950941",
        "colab": {
          "base_uri": "https://localhost:8080/",
          "height": 71
        }
      },
      "cell_type": "code",
      "source": [
        "def genera_vecina(solucion):\n",
        "  #Generador de soluciones vecinas: 2-opt (intercambiar 2 nodos) Si hay N nodos se generan (N-1)x(N-2)/2 soluciones\n",
        "  #print(solucion)\n",
        "  mejor_solucion = []\n",
        "  mejor_distancia = 10e100\n",
        "  for i in range(1,len(solucion)-1):\n",
        "    for j in range(i+1, len(solucion)):\n",
        "      vecina = solucion[:i] + [solucion[j]] + solucion[i+1:j] + [solucion[i]] + solucion[j+1:]\n",
        "      distancia_vecina = distancia_total(vecina, problem)\n",
        "      if distancia_vecina <= mejor_distancia:\n",
        "        mejor_distancia = distancia_vecina\n",
        "        mejor_solucion = vecina\n",
        "  return mejor_solucion\n",
        "                      \n",
        "solucion = crear_solucion(Nodos)\n",
        "print(solucion)\n",
        "nueva_solucion = genera_vecina(solucion)\n",
        "print(nueva_solucion)"
      ],
      "execution_count": 9,
      "outputs": [
        {
          "output_type": "stream",
          "text": [
            "[0, 41, 12, 2, 31, 20, 36, 35, 24, 3, 21, 37, 22, 32, 1, 19, 15, 16, 17, 9, 10, 4, 11, 26, 39, 5, 33, 14, 6, 34, 18, 30, 13, 7, 40, 28, 38, 23, 8, 27, 29, 25]\n",
            "[0, 41, 12, 2, 31, 20, 36, 35, 37, 3, 21, 24, 22, 32, 1, 19, 15, 16, 17, 9, 10, 4, 11, 26, 39, 5, 33, 14, 6, 34, 18, 30, 13, 7, 40, 28, 38, 23, 8, 27, 29, 25]\n"
          ],
          "name": "stdout"
        }
      ]
    },
    {
      "metadata": {
        "id": "lmK699Rke7uW",
        "colab_type": "code",
        "outputId": "0d5b294a-7ab6-41f2-f8cc-a7c0bb4556c4",
        "colab": {
          "base_uri": "https://localhost:8080/",
          "height": 808
        }
      },
      "cell_type": "code",
      "source": [
        "def deberiamos_parar(distancias_anteriores):\n",
        "  \n",
        "  distancias_ultimas_mejores = 0\n",
        "  for i in range(len(distancias_anteriores)-1):\n",
        "    # Vamos recogiendo las distancias de una a la siguiente\n",
        "    distancias_ultimas_mejores = distancias_ultimas_mejores + abs(distancias_anteriores[i]-distancias_anteriores[+1])\n",
        "  \n",
        "  # Si encontramos que la media de las diferencias es menor de 20, \n",
        "  # entonces debemos parar porque estamos ante un máximo local\n",
        "  return distancias_ultimas_mejores < len(distancias_anteriores)*10\n",
        "    \n",
        "\n",
        "def busqueda_local(problem, N):\n",
        "  Nodos = list(problem.get_nodes())\n",
        "      \n",
        "  solucion_referencia = crear_solucion(Nodos)\n",
        "  \n",
        "  distancia_final = 10000000\n",
        "  solucion_final = solucion_referencia\n",
        "  \n",
        "  # Me guardo un vector de las distancias anteriores para poder decidir si \n",
        "  # estamos en un mínimo local, para poder escapar de él\n",
        "  distancias_anteriores = []\n",
        "  \n",
        "  for i in range (N):\n",
        "    solucion_vecina = genera_vecina(solucion_referencia)\n",
        "    distancia_vecina = distancia_total(solucion_vecina, problem)\n",
        "    \n",
        "    if distancia_vecina < distancia_final:\n",
        "      distancia_final = distancia_vecina\n",
        "      solucion_final = solucion_vecina\n",
        "      \n",
        "      # Me guardo las distancias anteriores\n",
        "      distancias_anteriores.append(distancia_final)\n",
        "      # Si ya llevamos  unas cuantas distancias anteriores, vamos a comprobar\n",
        "      if len(distancias_anteriores) >= 5:\n",
        "        if deberiamos_parar(distancias_anteriores):\n",
        "          print(\"Debo parar ya, me he ahorrado: \" + str(N-i) + \" iteraciones\")\n",
        "          break\n",
        "        else:\n",
        "          distancias_anteriores = []\n",
        "          \n",
        "    \n",
        "    solucion_referencia = solucion_vecina\n",
        "    \n",
        "  print(\"Nuestra solución es: \" + str(solucion_final))\n",
        "  print(\"Nuestra distancia total es: \" + str(distancia_final))\n",
        "  return solucion_final\n",
        "  \n",
        "busqueda_local(problem, 100)"
      ],
      "execution_count": 38,
      "outputs": [
        {
          "output_type": "stream",
          "text": [
            "Debo parar ya, me he ahorrado: 71 iteraciones\n",
            "Nuestra solución es: [0, 27, 2, 3, 4, 26, 18, 12, 11, 25, 29, 28, 6, 5, 13, 19, 20, 33, 34, 38, 22, 39, 21, 24, 40, 23, 41, 10, 8, 9, 30, 32, 35, 36, 31, 17, 37, 15, 16, 14, 7, 1]\n",
            "Nuestra distancia total es: 1609\n"
          ],
          "name": "stdout"
        },
        {
          "output_type": "execute_result",
          "data": {
            "text/plain": [
              "[0,\n",
              " 27,\n",
              " 2,\n",
              " 3,\n",
              " 4,\n",
              " 26,\n",
              " 18,\n",
              " 12,\n",
              " 11,\n",
              " 25,\n",
              " 29,\n",
              " 28,\n",
              " 6,\n",
              " 5,\n",
              " 13,\n",
              " 19,\n",
              " 20,\n",
              " 33,\n",
              " 34,\n",
              " 38,\n",
              " 22,\n",
              " 39,\n",
              " 21,\n",
              " 24,\n",
              " 40,\n",
              " 23,\n",
              " 41,\n",
              " 10,\n",
              " 8,\n",
              " 9,\n",
              " 30,\n",
              " 32,\n",
              " 35,\n",
              " 36,\n",
              " 31,\n",
              " 17,\n",
              " 37,\n",
              " 15,\n",
              " 16,\n",
              " 14,\n",
              " 7,\n",
              " 1]"
            ]
          },
          "metadata": {
            "tags": []
          },
          "execution_count": 38
        }
      ]
    },
    {
      "metadata": {
        "id": "W4GZyAVY-bX3",
        "colab_type": "text"
      },
      "cell_type": "markdown",
      "source": [
        "#### Recocido simulado"
      ]
    },
    {
      "metadata": {
        "id": "ZftzCKZR-d1p",
        "colab_type": "code",
        "colab": {}
      },
      "cell_type": "code",
      "source": [
        "def genera_vecina_aleatorio(solucion):\n",
        "  #Generador de 1 solucion vecina 2-opt (intercambiar 2 nodos)\n",
        "  #Se puede mejorar haciendo que la elección no se uniforme sino entre las que estén más proximas\n",
        "  i = random.choice(range(1, len(solucion)) )\n",
        "  j = random.choice(list(set(range(1, len(solucion))) - {i}))\n",
        "  \n",
        "  vecina = solucion[:i] + [solucion[j]] + solucion[i+1:j] + [solucion[i]] + solucion[j+1:]\n",
        "  \n",
        "  return vecina\n",
        "\n",
        "# T = temperatura, d = distancia de soluciones\n",
        "def probabilidad(T,d):\n",
        "  r=random.random();\n",
        "  # exp(-delta/Temperatura) siendo delta diferencia entre distancia valor actual y nueva\n",
        "  if(r <= (e**(-1*d)/(T*1.0))):\n",
        "    return True\n",
        "  else:\n",
        "    return False\n",
        "  \n",
        "def bajar_temperatura(T):\n",
        "  return T-1"
      ],
      "execution_count": 0,
      "outputs": []
    },
    {
      "metadata": {
        "id": "gWSOq6ItAQ5V",
        "colab_type": "code",
        "colab": {
          "base_uri": "https://localhost:8080/",
          "height": 71
        },
        "outputId": "bb3050d4-857f-4e86-fee7-939b553f3e91"
      },
      "cell_type": "code",
      "source": [
        "def recocido_simulado(problem, TEMPERATURA):\n",
        "  #problem = datos del problema\n",
        "  #T = Temperatura\n",
        "  \n",
        "  solucion_referencia = crear_solucion(Nodos)\n",
        "  distancia_referencia = distancia_total(solucion_referencia, problem)\n",
        "  \n",
        "  mejor_solucion = []\n",
        "  mejor_distancia = 10e100\n",
        "  \n",
        "  while TEMPERATURA > 0:\n",
        "    #Genera una solución vecina(aleatoria)\n",
        "    vecina = genera_vecina_aleatorio(solucion_referencia)\n",
        "    \n",
        "    #Calcula su valor(distancia)\n",
        "    distancia_vecina = distancia_total(vecina, problem)\n",
        "    \n",
        "    #Si es la mejor solución de todas se guarda\n",
        "    if distancia_vecina < mejor_distancia:\n",
        "        mejor_solucion = vecina\n",
        "        mejor_distancia = distancia_vecina\n",
        "    \n",
        "    # Si la nueva vecina es mejor se cambia y si es peor se cambia según una \n",
        "    # probabilidad dependiente de T y de |distancia_referencia - distancia_vecina|\n",
        "    if distancia_vecina < distancia_referencia or probabilidad(TEMPERATURA, abs(distancia_referencia - distancia_vecina) ) :\n",
        "      solucion_referencia = vecina\n",
        "      distancia_referencia = distancia_vecina\n",
        "\n",
        "    TEMPERATURA = bajar_temperatura(TEMPERATURA)\n",
        "  \n",
        "  print(\"La mejor solución encontrada es \" , end=\"\")\n",
        "  print(mejor_solucion)\n",
        "  print(\"con una distancia total de \" , end=\"\")\n",
        "  print(mejor_distancia)\n",
        "  return mejor_solucion\n",
        "\n",
        "sol = recocido_simulado(problem, 10000)"
      ],
      "execution_count": 16,
      "outputs": [
        {
          "output_type": "stream",
          "text": [
            "La mejor solución encontrada es [0, 6, 5, 13, 19, 37, 17, 31, 7, 1, 26, 18, 12, 11, 25, 41, 23, 40, 24, 8, 10, 4, 3, 2, 27, 29, 9, 21, 39, 22, 38, 30, 28, 32, 34, 33, 20, 35, 36, 15, 16, 14]\n",
            "con una distancia total de 1658\n"
          ],
          "name": "stdout"
        }
      ]
    }
  ]
}