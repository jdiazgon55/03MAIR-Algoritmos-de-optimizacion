{
  "nbformat": 4,
  "nbformat_minor": 0,
  "metadata": {
    "colab": {
      "name": "AG2-Jaime_Diaz.ipynb",
      "version": "0.3.2",
      "provenance": [],
      "include_colab_link": true
    },
    "kernelspec": {
      "name": "python3",
      "display_name": "Python 3"
    }
  },
  "cells": [
    {
      "cell_type": "markdown",
      "metadata": {
        "id": "view-in-github",
        "colab_type": "text"
      },
      "source": [
        "<a href=\"https://colab.research.google.com/github/paella55/03MAIR-Algoritmos-de-optimizacion/blob/master/AG2/AG2_Jaime_Diaz.ipynb\" target=\"_parent\"><img src=\"https://colab.research.google.com/assets/colab-badge.svg\" alt=\"Open In Colab\"/></a>"
      ]
    },
    {
      "metadata": {
        "id": "X40u9wfzeD-Y",
        "colab_type": "text"
      },
      "cell_type": "markdown",
      "source": [
        "## AG2 - Actividad Guiada 2\n",
        "\n",
        "### Jaime Díaz González\n",
        "\n",
        "\n"
      ]
    }
  ]
}