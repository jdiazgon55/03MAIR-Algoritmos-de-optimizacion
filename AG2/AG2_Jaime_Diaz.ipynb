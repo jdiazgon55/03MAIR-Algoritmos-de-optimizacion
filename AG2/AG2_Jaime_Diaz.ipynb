{
  "nbformat": 4,
  "nbformat_minor": 0,
  "metadata": {
    "colab": {
      "name": "AG2-Jaime_Diaz.ipynb",
      "version": "0.3.2",
      "provenance": [],
      "include_colab_link": true
    },
    "kernelspec": {
      "name": "python3",
      "display_name": "Python 3"
    }
  },
  "cells": [
    {
      "cell_type": "markdown",
      "metadata": {
        "id": "view-in-github",
        "colab_type": "text"
      },
      "source": [
        "<a href=\"https://colab.research.google.com/github/paella55/03MAIR-Algoritmos-de-optimizacion/blob/master/AG2/AG2_Jaime_Diaz.ipynb\" target=\"_parent\"><img src=\"https://colab.research.google.com/assets/colab-badge.svg\" alt=\"Open In Colab\"/></a>"
      ]
    },
    {
      "metadata": {
        "id": "X40u9wfzeD-Y",
        "colab_type": "text"
      },
      "cell_type": "markdown",
      "source": [
        "## AG2 - Actividad Guiada 2\n",
        "\n",
        "### Jaime Díaz González\n",
        "\n",
        "URL: https://github.com/paella55/03MAIR-Algoritmos-de-optimizacion/blob/master/AG2/AG2_Jaime_Diaz.ipynb \n"
      ]
    },
    {
      "metadata": {
        "id": "Xvxrp-4PgbJf",
        "colab_type": "text"
      },
      "cell_type": "markdown",
      "source": [
        "### Puntos más cercanos"
      ]
    },
    {
      "metadata": {
        "id": "KAn_cGjPei2w",
        "colab_type": "code",
        "outputId": "4bd22dbb-0558-44b2-ec0a-b5ea700ffd98",
        "colab": {
          "base_uri": "https://localhost:8080/",
          "height": 34
        }
      },
      "cell_type": "code",
      "source": [
        "# Distancia puntos más cercanos\n",
        "import math\n",
        "import random\n",
        "import timeit # librería para calcular el tiempo de ejecución\n",
        "\n",
        "N = 1000\n",
        "LISTA_2D = [ (random.randrange(1, N*10), random.randrange(1, N*10)) for _ in range(N)]\n",
        "  \n",
        "def distancia(A, B):\n",
        "  if type(A) is int or type(A) is float:\n",
        "    return abs(B-A)\n",
        "  else:\n",
        "    return math.sqrt(sum([(A[i]-B[i])**2 for i in range(len(A))]))\n",
        "  \n",
        "distancia((1,3), (2,5))"
      ],
      "execution_count": 72,
      "outputs": [
        {
          "output_type": "execute_result",
          "data": {
            "text/plain": [
              "2.23606797749979"
            ]
          },
          "metadata": {
            "tags": []
          },
          "execution_count": 72
        }
      ]
    },
    {
      "metadata": {
        "id": "jNckNlfmh-7v",
        "colab_type": "code",
        "outputId": "2bdcfc2d-cc96-4657-dab0-1c17cd9aff25",
        "colab": {
          "base_uri": "https://localhost:8080/",
          "height": 51
        }
      },
      "cell_type": "code",
      "source": [
        "# Fuerza bruta\n",
        "def fuerza_bruta_puntos(L):\n",
        "  distancia_minima = N*10\n",
        "  \n",
        "  A,B = (),()\n",
        "  \n",
        "  # Me guardo el indice\n",
        "  for idx,i in enumerate(L):\n",
        "    # Hago slicing para la segunda parte, quitando siempre el elemento idx+1\n",
        "    for j in L[idx+1:]:\n",
        "      dist_iteracion = distancia(list(i), list(j))\n",
        "      if( dist_iteracion < distancia_minima):\n",
        "        # Quiero mostrar la distancia mínima también\n",
        "        distancia_minima = dist_iteracion\n",
        "        A,B = i,j\n",
        "  return (\"Valor distancia: \",distancia_minima, \"Puntos más ceranos: \", A,B)\n",
        "\n",
        "tiempo_inicio = timeit.default_timer()\n",
        "print(fuerza_bruta_puntos(LISTA_2D))\n",
        "print(\"Tiempo total: \" + str(timeit.default_timer() - tiempo_inicio))"
      ],
      "execution_count": 73,
      "outputs": [
        {
          "output_type": "stream",
          "text": [
            "('Valor distancia: ', 6.4031242374328485, 'Puntos más ceranos: ', (2012, 9164), (2007, 9168))\n",
            "Tiempo total: 1.1680062909999833\n"
          ],
          "name": "stdout"
        }
      ]
    },
    {
      "metadata": {
        "id": "ZFRUCnfY84Xi",
        "colab_type": "code",
        "colab": {
          "base_uri": "https://localhost:8080/",
          "height": 34
        },
        "outputId": "5bf8f45f-8223-42d3-f43e-1f6fc2e66fae"
      },
      "cell_type": "code",
      "source": [
        "# Divide y vencerás\n",
        "\n",
        "def divide_venceras_puntos(L):\n",
        "  # Hay pocos puntos\n",
        "  if len(L) < 10:\n",
        "    return fuerza_bruta_puntos(L)\n",
        "  else:\n",
        "    # Ordenamos\n",
        "    LISTA_IZQ = sorted(L, key=lambda x: x[0])[:len(L)//2]    \n",
        "    LISTA_DER = sorted(L, key=lambda x: x[0])[len(L)//2:]\n",
        "\n",
        "    valores_retorno_izq = divide_venceras_puntos(LISTA_IZQ)\n",
        "    valores_retorno_der = divide_venceras_puntos(LISTA_DER)\n",
        "    \n",
        "    # Comparo en vez de puntos, distancias, por tanto me ahorro operaciones y llamadas\n",
        "    # Ya que estoy eliminando uno de las dos listas\n",
        "    if valores_retorno_izq[1] < valores_retorno_der[1]:\n",
        "      puntos = (valores_retorno_izq[3], valores_retorno_izq[4])\n",
        "      return fuerza_bruta_puntos(puntos)\n",
        "    else:\n",
        "      puntos = (valores_retorno_der[3], valores_retorno_der[4])\n",
        "      return fuerza_bruta_puntos(puntos)\n",
        "    \n",
        "    \n",
        "    \n",
        "    \n",
        "# Probando con pocos elementos\n",
        "divide_venceras_puntos(LISTA_2D[:5])\n",
        "\n",
        "tiempo_inicio = timeit.default_timer()\n",
        "divide_venceras_puntos(LISTA_2D)\n",
        "print(\"Tiempo total: \" + str(timeit.default_timer() - tiempo_inicio))"
      ],
      "execution_count": 74,
      "outputs": [
        {
          "output_type": "stream",
          "text": [
            "Tiempo total: 0.013931270000284712\n"
          ],
          "name": "stdout"
        }
      ]
    }
  ]
}