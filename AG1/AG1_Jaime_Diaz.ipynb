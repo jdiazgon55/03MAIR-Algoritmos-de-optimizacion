{
  "nbformat": 4,
  "nbformat_minor": 0,
  "metadata": {
    "colab": {
      "name": "AG1-Jaime_Diaz.ipynb",
      "version": "0.3.2",
      "provenance": [],
      "include_colab_link": true
    },
    "kernelspec": {
      "name": "python3",
      "display_name": "Python 3"
    }
  },
  "cells": [
    {
      "cell_type": "markdown",
      "metadata": {
        "id": "view-in-github",
        "colab_type": "text"
      },
      "source": [
        "<a href=\"https://colab.research.google.com/github/paella55/03MAIR-Algoritmos-de-optimizacion/blob/master/AG1/AG1_Jaime_Diaz.ipynb\" target=\"_parent\"><img src=\"https://colab.research.google.com/assets/colab-badge.svg\" alt=\"Open In Colab\"/></a>"
      ]
    },
    {
      "metadata": {
        "id": "4fvF9EVGH-UM",
        "colab_type": "text"
      },
      "cell_type": "markdown",
      "source": [
        "## AG - Actividad guiada 1\n",
        "\n",
        "*Jaime Díaz*\n",
        "\n",
        "https://github.com/paella55/03MAIR-Algoritmos-de-optimizacion/tree/master/AG1"
      ]
    },
    {
      "metadata": {
        "id": "xvnOLEKvZgYq",
        "colab_type": "text"
      },
      "cell_type": "markdown",
      "source": [
        "###quick_sort de menor a mayor"
      ]
    },
    {
      "metadata": {
        "id": "If6_93cbJFAr",
        "colab_type": "code",
        "outputId": "726d8b07-9a5b-4806-b6fa-1dd91bbc681d",
        "colab": {
          "base_uri": "https://localhost:8080/",
          "height": 71
        }
      },
      "cell_type": "code",
      "source": [
        "#quick_sort de menor a mayor\n",
        "import timeit # librería para calcular el tiempo de ejecución\n",
        "\n",
        "A = [9187, 244, 4054, 9222, 8373, 4993, 5265, 5470, 4519, 7182, 2035, 3506, 4337, 7580, 2554, 2824, 8357, 4447, 7379]\n",
        "\n",
        "def quick_sort(A):\n",
        "  # Caso 1\n",
        "  if len(A) == 1:\n",
        "    return A\n",
        "  \n",
        "  # Caso 2\n",
        "  if len(A) == 2:\n",
        "    return [min(A), max(A)]\n",
        "  \n",
        "  # Elección del pivote\n",
        "  pivote = (A[0]+A[1]+A[2])/3\n",
        "  \n",
        "  # Dividir la lista\n",
        "  izq = []\n",
        "  der = []\n",
        "  for i in A:\n",
        "    if i <= pivote:\n",
        "      izq.append(i)\n",
        "    else:\n",
        "      der.append(i)\n",
        "  # Ordenamos las sublistas y las unimos\n",
        "  return quick_sort(izq) + quick_sort(der)\n",
        " \n",
        "tiempo_inicio = timeit.default_timer()\n",
        "A = quick_sort(A)\n",
        "print(\"Tiempo total: \" + str(timeit.default_timer() - tiempo_inicio))\n",
        "print(\"Lista ordenada: \" + str(A))"
      ],
      "execution_count": 13,
      "outputs": [
        {
          "output_type": "stream",
          "text": [
            "Tiempo total: 8.257800004685123e-05\n",
            "Lista ordenada: [244, 2035, 2554, 2824, 3506, 4054, 4337, 4447, 4519, 4993, 5265, 5470, 7182, 7379, 7580, 8357, 8373, 9187, 9222]\n"
          ],
          "name": "stdout"
        }
      ]
    },
    {
      "metadata": {
        "id": "i8Ac7Ig0Zlqg",
        "colab_type": "text"
      },
      "cell_type": "markdown",
      "source": [
        "### Problema cambio de monedas sin recursividad"
      ]
    },
    {
      "metadata": {
        "id": "FU4hryW5UeoJ",
        "colab_type": "code",
        "outputId": "e04ae316-334c-4073-87f4-facb1eaf4e0a",
        "colab": {
          "base_uri": "https://localhost:8080/",
          "height": 51
        }
      },
      "cell_type": "code",
      "source": [
        "# Problema cambio de monedas sin recursividad\n",
        "monedas = [25, 10, 5 ,1]\n",
        "cambio = []\n",
        "\n",
        "def cambio_monedas(cantidad: int):\n",
        "  # Cuando la cantidad llega a 0, puedo parar\n",
        "  while cantidad != 0:\n",
        "    moneda = 1 # Esta variable almacena la moneda máxima que necesito\n",
        "    for i in monedas:\n",
        "      if cantidad >= i:\n",
        "        moneda = i\n",
        "        break\n",
        "\n",
        "    # Una vez encontrada, la guardo\n",
        "    cambio.append(moneda)\n",
        "    cantidad = cantidad - moneda\n",
        "        \n",
        "\n",
        "tiempo_inicio = timeit.default_timer()\n",
        "cambio_monedas(99)\n",
        "print(\"Tiempo total: \" + str(timeit.default_timer() - tiempo_inicio))\n",
        "print(\"Debes devolver las siguientes monedas: \" + str(cambio))"
      ],
      "execution_count": 14,
      "outputs": [
        {
          "output_type": "stream",
          "text": [
            "Tiempo total: 6.0393000012481934e-05\n",
            "Debes devolver las siguientes monedas: [25, 25, 25, 10, 10, 1, 1, 1, 1]\n"
          ],
          "name": "stdout"
        }
      ]
    },
    {
      "metadata": {
        "id": "KbMTl224Zqg4",
        "colab_type": "text"
      },
      "cell_type": "markdown",
      "source": [
        "### Problema cambio de monedas con recursividad"
      ]
    },
    {
      "metadata": {
        "id": "bmN7Dr-GZIEy",
        "colab_type": "code",
        "outputId": "6eb554bd-b18e-4d43-aacd-39d241eaa001",
        "colab": {
          "base_uri": "https://localhost:8080/",
          "height": 51
        }
      },
      "cell_type": "code",
      "source": [
        "# Problema cambio de monedas con recursividad\n",
        "monedas = [25, 10, 5 ,1]\n",
        "cambio = []\n",
        "\n",
        "def cambio_monedas(cantidad: int):  \n",
        "  moneda = 1 # Esta variable almacena la moneda máxima que necesito\n",
        "  for i in monedas:\n",
        "    if cantidad >= i:\n",
        "      moneda = i\n",
        "      break\n",
        "  \n",
        "  # Una vez encontrada, la guardo\n",
        "  cambio.append(moneda)\n",
        "  cantidad = cantidad - moneda\n",
        "  # Cuando la cantidad llega a 0, puedo parar\n",
        "  if cantidad != 0:\n",
        "    cambio_monedas(cantidad)\n",
        "        \n",
        "\n",
        "tiempo_inicio = timeit.default_timer()\n",
        "cambio_monedas(99)\n",
        "print(\"Tiempo total: \" + str(timeit.default_timer() - tiempo_inicio))\n",
        "print(\"Debes devolver las siguientes monedas: \" + str(cambio))"
      ],
      "execution_count": 15,
      "outputs": [
        {
          "output_type": "stream",
          "text": [
            "Tiempo total: 4.4984999931330094e-05\n",
            "Debes devolver las siguientes monedas: [25, 25, 25, 10, 10, 1, 1, 1, 1]\n"
          ],
          "name": "stdout"
        }
      ]
    },
    {
      "metadata": {
        "id": "BIz1IhEAlq56",
        "colab_type": "text"
      },
      "cell_type": "markdown",
      "source": [
        "### Algoritmo reinas vuelta atrás"
      ]
    },
    {
      "metadata": {
        "id": "rBGXr2g6lwNI",
        "colab_type": "code",
        "outputId": "2418f72c-af4d-43fc-878f-8cde3dec4b41",
        "colab": {
          "base_uri": "https://localhost:8080/",
          "height": 257
        }
      },
      "cell_type": "code",
      "source": [
        "# Reinas vuelta atrás\n",
        "\n",
        "N = 4\n",
        "\n",
        "solucion = [0 for i in range(N)]\n",
        "\n",
        "def es_prometedora(SOLUCION, etapa):\n",
        "  # Recorremos la solución para la siguiente etapa\n",
        "  for i in range(etapa+1):\n",
        "    # Count comprueba cuantos elementos hay iguales para SOLUCION[i]\n",
        "    if SOLUCION.count(SOLUCION[i]) > 1:\n",
        "      return False\n",
        "    \n",
        "    for j in range(i+1, etapa + 1):\n",
        "      if abs(i-j) == abs(SOLUCION[i]-SOLUCION[j]):\n",
        "        return False\n",
        "      \n",
        "  return True\n",
        "\n",
        "def escribe(S):\n",
        "  n = len(S)\n",
        "  for x in range(n):\n",
        "    print(\"\")\n",
        "    for i in range(n):\n",
        "      if solucion[i] == x+1:\n",
        "        print(\" X \", end=\"\")\n",
        "      else:\n",
        "        print(\" - \", end=\"\")\n",
        "      \n",
        "    \n",
        "\n",
        "def reinas(N: int, solucion, etapa):\n",
        "  \n",
        "  # Recorremos la tupla de columnas\n",
        "  for i in range(1, N+1):\n",
        "    solucion[etapa] = i # Ponemos el valor a la reina de la etapa actual    \n",
        "  \n",
        "    if es_prometedora(solucion, etapa):\n",
        "      # Si estamos en la última etapa, hemos acabado\n",
        "      if etapa == N-1:\n",
        "        print(\"\\nLa solución es: \" + str(solucion))\n",
        "        escribe(solucion)\n",
        "      else:\n",
        "        reinas(N, solucion, etapa + 1)\n",
        "\n",
        "    solucion[etapa] = 0\n",
        "  \n",
        "tiempo_inicio = timeit.default_timer()\n",
        "reinas(N, solucion, 0)\n",
        "print(\"\\nTiempo total: \" + str(timeit.default_timer() - tiempo_inicio))"
      ],
      "execution_count": 21,
      "outputs": [
        {
          "output_type": "stream",
          "text": [
            "\n",
            "La solución es: [2, 4, 1, 3]\n",
            "\n",
            " -  -  X  - \n",
            " X  -  -  - \n",
            " -  -  -  X \n",
            " -  X  -  - \n",
            "La solución es: [3, 1, 4, 2]\n",
            "\n",
            " -  X  -  - \n",
            " -  -  -  X \n",
            " X  -  -  - \n",
            " -  -  X  - \n",
            "Tiempo total: 0.009058278999873437\n"
          ],
          "name": "stdout"
        }
      ]
    }
  ]
}