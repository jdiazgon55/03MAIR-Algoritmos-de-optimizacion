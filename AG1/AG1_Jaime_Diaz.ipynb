{
  "nbformat": 4,
  "nbformat_minor": 0,
  "metadata": {
    "colab": {
      "name": "AG1-Jaime_Diaz.ipynb",
      "version": "0.3.2",
      "provenance": [],
      "include_colab_link": true
    },
    "kernelspec": {
      "name": "python3",
      "display_name": "Python 3"
    }
  },
  "cells": [
    {
      "cell_type": "markdown",
      "metadata": {
        "id": "view-in-github",
        "colab_type": "text"
      },
      "source": [
        "<a href=\"https://colab.research.google.com/github/paella55/03MAIR-Algoritmos-de-optimizacion/blob/master/AG1/AG1_Jaime_Diaz.ipynb\" target=\"_parent\"><img src=\"https://colab.research.google.com/assets/colab-badge.svg\" alt=\"Open In Colab\"/></a>"
      ]
    },
    {
      "metadata": {
        "id": "4fvF9EVGH-UM",
        "colab_type": "text"
      },
      "cell_type": "markdown",
      "source": [
        "## AG - Actividad guiada 1\n",
        "\n",
        "*Jaime Díaz*\n",
        "\n",
        "https://github.com/paella55/03MAIR-Algoritmos-de-optimizacion/tree/master/AG1"
      ]
    },
    {
      "metadata": {
        "id": "xvnOLEKvZgYq",
        "colab_type": "text"
      },
      "cell_type": "markdown",
      "source": [
        "###quick_sort de menor a mayor"
      ]
    },
    {
      "metadata": {
        "id": "If6_93cbJFAr",
        "colab_type": "code",
        "colab": {
          "base_uri": "https://localhost:8080/",
          "height": 71
        },
        "outputId": "7271aef0-9315-44de-c829-cd2db54725f5"
      },
      "cell_type": "code",
      "source": [
        "#quick_sort de menor a mayor\n",
        "import timeit # librería para calcular el tiempo de ejecución\n",
        "\n",
        "A = [9187, 244, 4054, 9222, 8373, 4993, 5265, 5470, 4519, 7182, 2035, 3506, 4337, 7580, 2554, 2824, 8357, 4447, 7379]\n",
        "\n",
        "def quick_sort(A):\n",
        "  # Caso 1\n",
        "  if len(A) == 1:\n",
        "    return A\n",
        "  \n",
        "  # Caso 2\n",
        "  if len(A) == 2:\n",
        "    return [min(A), max(A)]\n",
        "  \n",
        "  # Elección del pivote\n",
        "  pivote = (A[0]+A[1]+A[2])/3\n",
        "  \n",
        "  # Dividir la lista\n",
        "  izq = []\n",
        "  der = []\n",
        "  for i in A:\n",
        "    if i <= pivote:\n",
        "      izq.append(i)\n",
        "    else:\n",
        "      der.append(i)\n",
        "  # Ordenamos las sublistas y las unimos\n",
        "  return quick_sort(izq) + quick_sort(der)\n",
        " \n",
        "tiempo_inicio = timeit.default_timer()\n",
        "A = quick_sort(A)\n",
        "print(\"Tiempo total: \" + str(timeit.default_timer() - tiempo_inicio))\n",
        "print(\"Lista ordenada: \" + str(A))"
      ],
      "execution_count": 33,
      "outputs": [
        {
          "output_type": "stream",
          "text": [
            "Tiempo total: 7.409599993479787e-05\n",
            "Lista ordenada: [244, 2035, 2554, 2824, 3506, 4054, 4337, 4447, 4519, 4993, 5265, 5470, 7182, 7379, 7580, 8357, 8373, 9187, 9222]\n"
          ],
          "name": "stdout"
        }
      ]
    },
    {
      "metadata": {
        "id": "i8Ac7Ig0Zlqg",
        "colab_type": "text"
      },
      "cell_type": "markdown",
      "source": [
        "### Problema cambio de monedas sin recursividad"
      ]
    },
    {
      "metadata": {
        "id": "FU4hryW5UeoJ",
        "colab_type": "code",
        "colab": {
          "base_uri": "https://localhost:8080/",
          "height": 51
        },
        "outputId": "c6f422e0-6a44-4308-88ba-2e09f972fe1e"
      },
      "cell_type": "code",
      "source": [
        "# Problema cambio de monedas sin recursividad\n",
        "monedas = [25, 10, 5 ,1]\n",
        "cambio = []\n",
        "\n",
        "def cambio_monedas(cantidad: int):\n",
        "  # Cuando la cantidad llega a 0, puedo parar\n",
        "  while cantidad != 0:\n",
        "    moneda = 1 # Esta variable almacena la moneda máxima que necesito\n",
        "    for i in monedas:\n",
        "      if cantidad >= i:\n",
        "        moneda = i\n",
        "        break\n",
        "\n",
        "    # Una vez encontrada, la guardo\n",
        "    cambio.append(moneda)\n",
        "    cantidad = cantidad - moneda\n",
        "        \n",
        "\n",
        "tiempo_inicio = timeit.default_timer()\n",
        "cambio_monedas(99)\n",
        "print(\"Tiempo total: \" + str(timeit.default_timer() - tiempo_inicio))\n",
        "print(\"Debes devolver las siguientes monedas: \" + str(cambio))"
      ],
      "execution_count": 51,
      "outputs": [
        {
          "output_type": "stream",
          "text": [
            "Tiempo total: 0.00014303399984783027\n",
            "Debes devolver las siguientes monedas: [25, 25, 25, 10, 10, 1, 1, 1, 1]\n"
          ],
          "name": "stdout"
        }
      ]
    },
    {
      "metadata": {
        "id": "KbMTl224Zqg4",
        "colab_type": "text"
      },
      "cell_type": "markdown",
      "source": [
        "### Problema cambio de monedas con recursividad"
      ]
    },
    {
      "metadata": {
        "id": "bmN7Dr-GZIEy",
        "colab_type": "code",
        "colab": {
          "base_uri": "https://localhost:8080/",
          "height": 51
        },
        "outputId": "0e14729c-43f2-46b9-d676-9722ac0ab683"
      },
      "cell_type": "code",
      "source": [
        "# Problema cambio de monedas con recursividad\n",
        "monedas = [25, 10, 5 ,1]\n",
        "cambio = []\n",
        "\n",
        "def cambio_monedas(cantidad: int):  \n",
        "  moneda = 1 # Esta variable almacena la moneda máxima que necesito\n",
        "  for i in monedas:\n",
        "    if cantidad >= i:\n",
        "      moneda = i\n",
        "      break\n",
        "  \n",
        "  # Una vez encontrada, la guardo\n",
        "  cambio.append(moneda)\n",
        "  cantidad = cantidad - moneda\n",
        "  # Cuando la cantidad llega a 0, puedo parar\n",
        "  if cantidad != 0:\n",
        "    cambio_monedas(cantidad)\n",
        "        \n",
        "\n",
        "tiempo_inicio = timeit.default_timer()\n",
        "cambio_monedas(99)\n",
        "print(\"Tiempo total: \" + str(timeit.default_timer() - tiempo_inicio))\n",
        "print(\"Debes devolver las siguientes monedas: \" + str(cambio))"
      ],
      "execution_count": 52,
      "outputs": [
        {
          "output_type": "stream",
          "text": [
            "Tiempo total: 4.813899977307301e-05\n",
            "Debes devolver las siguientes monedas: [25, 25, 25, 10, 10, 1, 1, 1, 1]\n"
          ],
          "name": "stdout"
        }
      ]
    }
  ]
}